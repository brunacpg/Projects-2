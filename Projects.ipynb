{
 "cells": [
  {
   "cell_type": "code",
   "execution_count": 1,
   "metadata": {},
   "outputs": [],
   "source": [
    "import pandas as pd \n",
    "import plotly.express as px\n",
    "import matplotlib.pyplot as plt\n"
   ]
  },
  {
   "cell_type": "code",
   "execution_count": 2,
   "metadata": {},
   "outputs": [
    {
     "data": {
      "text/html": [
       "<div>\n",
       "<style scoped>\n",
       "    .dataframe tbody tr th:only-of-type {\n",
       "        vertical-align: middle;\n",
       "    }\n",
       "\n",
       "    .dataframe tbody tr th {\n",
       "        vertical-align: top;\n",
       "    }\n",
       "\n",
       "    .dataframe thead th {\n",
       "        text-align: right;\n",
       "    }\n",
       "</style>\n",
       "<table border=\"1\" class=\"dataframe\">\n",
       "  <thead>\n",
       "    <tr style=\"text-align: right;\">\n",
       "      <th></th>\n",
       "      <th>id</th>\n",
       "      <th>Idade</th>\n",
       "      <th>Faixa idade</th>\n",
       "      <th>Genero</th>\n",
       "      <th>Cor/raca/etnia</th>\n",
       "      <th>PCD</th>\n",
       "      <th>experiencia_profissional_prejudicada</th>\n",
       "      <th>aspectos_prejudicados</th>\n",
       "      <th>vive_no_brasil</th>\n",
       "      <th>Estado onde mora</th>\n",
       "      <th>...</th>\n",
       "      <th>Coletando e limpando os dados que uso para análise e modelagem.</th>\n",
       "      <th>Entrando em contato com os times de negócio para definição do problema</th>\n",
       "      <th>Desenvolvendo modelos de Machine Learning com o objetivo de colocar em produção em sistemas (produtos de dados).</th>\n",
       "      <th>Colocando modelos em produção</th>\n",
       "      <th>Cuidando da manutenção de modelos de Machine Learning já em produção</th>\n",
       "      <th>Realizando construções de dashboards em ferramentas de BI como PowerBI</th>\n",
       "      <th>Utilizando ferramentas avançadas de estatística como SAS</th>\n",
       "      <th>Criando e dando manutenção em ETLs</th>\n",
       "      <th>Criando e gerenciando soluções de Feature Store e cultura de MLOps.</th>\n",
       "      <th>Criando e mantendo a infra que meus modelos e soluções rodam (clusters</th>\n",
       "    </tr>\n",
       "  </thead>\n",
       "  <tbody>\n",
       "    <tr>\n",
       "      <th>0</th>\n",
       "      <td>zzqzz3l9ily8nuo2m7wyzzqzz3w48o96</td>\n",
       "      <td>39.0</td>\n",
       "      <td>35-39</td>\n",
       "      <td>Masculino</td>\n",
       "      <td>Parda</td>\n",
       "      <td>Não</td>\n",
       "      <td>Não acredito que minha experiência profissiona...</td>\n",
       "      <td>NaN</td>\n",
       "      <td>True</td>\n",
       "      <td>Distrito Federal (DF)</td>\n",
       "      <td>...</td>\n",
       "      <td>NaN</td>\n",
       "      <td>NaN</td>\n",
       "      <td>NaN</td>\n",
       "      <td>NaN</td>\n",
       "      <td>NaN</td>\n",
       "      <td>NaN</td>\n",
       "      <td>NaN</td>\n",
       "      <td>NaN</td>\n",
       "      <td>NaN</td>\n",
       "      <td>NaN</td>\n",
       "    </tr>\n",
       "    <tr>\n",
       "      <th>1</th>\n",
       "      <td>zzls2oftfn9law393oezzls2ofhvfpzd</td>\n",
       "      <td>32.0</td>\n",
       "      <td>30-34</td>\n",
       "      <td>Masculino</td>\n",
       "      <td>Parda</td>\n",
       "      <td>Não</td>\n",
       "      <td>Sim, acredito que a minha a experiência profis...</td>\n",
       "      <td>Aprovação em processos seletivos/entrevistas</td>\n",
       "      <td>True</td>\n",
       "      <td>Pará (PA)</td>\n",
       "      <td>...</td>\n",
       "      <td>NaN</td>\n",
       "      <td>NaN</td>\n",
       "      <td>NaN</td>\n",
       "      <td>NaN</td>\n",
       "      <td>NaN</td>\n",
       "      <td>NaN</td>\n",
       "      <td>NaN</td>\n",
       "      <td>NaN</td>\n",
       "      <td>NaN</td>\n",
       "      <td>NaN</td>\n",
       "    </tr>\n",
       "    <tr>\n",
       "      <th>2</th>\n",
       "      <td>zzdwqzfqqp1ypc7ps6m0hzzdwqz292yi</td>\n",
       "      <td>53.0</td>\n",
       "      <td>50-54</td>\n",
       "      <td>Masculino</td>\n",
       "      <td>Branca</td>\n",
       "      <td>Não</td>\n",
       "      <td>NaN</td>\n",
       "      <td>NaN</td>\n",
       "      <td>True</td>\n",
       "      <td>Distrito Federal (DF)</td>\n",
       "      <td>...</td>\n",
       "      <td>0.0</td>\n",
       "      <td>1.0</td>\n",
       "      <td>0.0</td>\n",
       "      <td>0.0</td>\n",
       "      <td>0.0</td>\n",
       "      <td>0.0</td>\n",
       "      <td>0.0</td>\n",
       "      <td>0.0</td>\n",
       "      <td>0.0</td>\n",
       "      <td>0.0</td>\n",
       "    </tr>\n",
       "    <tr>\n",
       "      <th>3</th>\n",
       "      <td>zzbqh3uy7yk7k9qmkzzbqtb4s9faqspl</td>\n",
       "      <td>27.0</td>\n",
       "      <td>25-29</td>\n",
       "      <td>Masculino</td>\n",
       "      <td>Branca</td>\n",
       "      <td>Não</td>\n",
       "      <td>NaN</td>\n",
       "      <td>NaN</td>\n",
       "      <td>True</td>\n",
       "      <td>Minas Gerais (MG)</td>\n",
       "      <td>...</td>\n",
       "      <td>1.0</td>\n",
       "      <td>0.0</td>\n",
       "      <td>0.0</td>\n",
       "      <td>0.0</td>\n",
       "      <td>0.0</td>\n",
       "      <td>0.0</td>\n",
       "      <td>0.0</td>\n",
       "      <td>0.0</td>\n",
       "      <td>0.0</td>\n",
       "      <td>0.0</td>\n",
       "    </tr>\n",
       "    <tr>\n",
       "      <th>4</th>\n",
       "      <td>zzaf1m95yan929rb94wzzaf1mekhvhpg</td>\n",
       "      <td>46.0</td>\n",
       "      <td>45-49</td>\n",
       "      <td>Feminino</td>\n",
       "      <td>Branca</td>\n",
       "      <td>Não</td>\n",
       "      <td>Não acredito que minha experiência profissiona...</td>\n",
       "      <td>NaN</td>\n",
       "      <td>True</td>\n",
       "      <td>Pará (PA)</td>\n",
       "      <td>...</td>\n",
       "      <td>NaN</td>\n",
       "      <td>NaN</td>\n",
       "      <td>NaN</td>\n",
       "      <td>NaN</td>\n",
       "      <td>NaN</td>\n",
       "      <td>NaN</td>\n",
       "      <td>NaN</td>\n",
       "      <td>NaN</td>\n",
       "      <td>NaN</td>\n",
       "      <td>NaN</td>\n",
       "    </tr>\n",
       "  </tbody>\n",
       "</table>\n",
       "<p>5 rows × 353 columns</p>\n",
       "</div>"
      ],
      "text/plain": [
       "                                 id  Idade Faixa idade     Genero  \\\n",
       "0  zzqzz3l9ily8nuo2m7wyzzqzz3w48o96   39.0       35-39  Masculino   \n",
       "1  zzls2oftfn9law393oezzls2ofhvfpzd   32.0       30-34  Masculino   \n",
       "2  zzdwqzfqqp1ypc7ps6m0hzzdwqz292yi   53.0       50-54  Masculino   \n",
       "3  zzbqh3uy7yk7k9qmkzzbqtb4s9faqspl   27.0       25-29  Masculino   \n",
       "4  zzaf1m95yan929rb94wzzaf1mekhvhpg   46.0       45-49   Feminino   \n",
       "\n",
       "  Cor/raca/etnia  PCD               experiencia_profissional_prejudicada  \\\n",
       "0          Parda  Não  Não acredito que minha experiência profissiona...   \n",
       "1          Parda  Não  Sim, acredito que a minha a experiência profis...   \n",
       "2         Branca  Não                                                NaN   \n",
       "3         Branca  Não                                                NaN   \n",
       "4         Branca  Não  Não acredito que minha experiência profissiona...   \n",
       "\n",
       "                          aspectos_prejudicados  vive_no_brasil  \\\n",
       "0                                           NaN            True   \n",
       "1  Aprovação em processos seletivos/entrevistas            True   \n",
       "2                                           NaN            True   \n",
       "3                                           NaN            True   \n",
       "4                                           NaN            True   \n",
       "\n",
       "        Estado onde mora  ...  \\\n",
       "0  Distrito Federal (DF)  ...   \n",
       "1              Pará (PA)  ...   \n",
       "2  Distrito Federal (DF)  ...   \n",
       "3      Minas Gerais (MG)  ...   \n",
       "4              Pará (PA)  ...   \n",
       "\n",
       "  Coletando e limpando os dados que uso para análise e modelagem.  \\\n",
       "0                                                NaN                \n",
       "1                                                NaN                \n",
       "2                                                0.0                \n",
       "3                                                1.0                \n",
       "4                                                NaN                \n",
       "\n",
       "  Entrando em contato com os times de negócio para definição do problema  \\\n",
       "0                                                NaN                       \n",
       "1                                                NaN                       \n",
       "2                                                1.0                       \n",
       "3                                                0.0                       \n",
       "4                                                NaN                       \n",
       "\n",
       "  Desenvolvendo modelos de Machine Learning com o objetivo de colocar em produção em sistemas (produtos de dados).  \\\n",
       "0                                                NaN                                                                 \n",
       "1                                                NaN                                                                 \n",
       "2                                                0.0                                                                 \n",
       "3                                                0.0                                                                 \n",
       "4                                                NaN                                                                 \n",
       "\n",
       "  Colocando modelos em produção  \\\n",
       "0                           NaN   \n",
       "1                           NaN   \n",
       "2                           0.0   \n",
       "3                           0.0   \n",
       "4                           NaN   \n",
       "\n",
       "  Cuidando da manutenção de modelos de Machine Learning já em produção  \\\n",
       "0                                                NaN                     \n",
       "1                                                NaN                     \n",
       "2                                                0.0                     \n",
       "3                                                0.0                     \n",
       "4                                                NaN                     \n",
       "\n",
       "  Realizando construções de dashboards em ferramentas de BI como PowerBI  \\\n",
       "0                                                NaN                       \n",
       "1                                                NaN                       \n",
       "2                                                0.0                       \n",
       "3                                                0.0                       \n",
       "4                                                NaN                       \n",
       "\n",
       "  Utilizando ferramentas avançadas de estatística como SAS  \\\n",
       "0                                                NaN         \n",
       "1                                                NaN         \n",
       "2                                                0.0         \n",
       "3                                                0.0         \n",
       "4                                                NaN         \n",
       "\n",
       "  Criando e dando manutenção em ETLs  \\\n",
       "0                                NaN   \n",
       "1                                NaN   \n",
       "2                                0.0   \n",
       "3                                0.0   \n",
       "4                                NaN   \n",
       "\n",
       "  Criando e gerenciando soluções de Feature Store e cultura de MLOps.  \\\n",
       "0                                                NaN                    \n",
       "1                                                NaN                    \n",
       "2                                                0.0                    \n",
       "3                                                0.0                    \n",
       "4                                                NaN                    \n",
       "\n",
       "  Criando e mantendo a infra que meus modelos e soluções rodam (clusters  \n",
       "0                                                NaN                      \n",
       "1                                                NaN                      \n",
       "2                                                0.0                      \n",
       "3                                                0.0                      \n",
       "4                                                NaN                      \n",
       "\n",
       "[5 rows x 353 columns]"
      ]
     },
     "execution_count": 2,
     "metadata": {},
     "output_type": "execute_result"
    }
   ],
   "source": [
    "df = pd.read_csv(\"C:\\\\Users\\\\gpcbr\\\\Desktop\\\\Projeto_Python_Jobs\\\\State_of_data_2022.csv\")\n",
    "df.columns = [col[1:-1].split(\",\")[1].replace(\"'\", \"\").strip() for col in df.columns]\n",
    "df.head()"
   ]
  },
  {
   "cell_type": "code",
   "execution_count": 3,
   "metadata": {},
   "outputs": [
    {
     "data": {
      "application/vnd.plotly.v1+json": {
       "config": {
        "plotlyServerURL": "https://plot.ly"
       },
       "data": [
        {
         "alignmentgroup": "True",
         "bingroup": "x",
         "hovertemplate": "Idade=%{x}<br>count=%{y}<extra></extra>",
         "legendgroup": "",
         "marker": {
          "color": "darkblue",
          "pattern": {
           "shape": ""
          }
         },
         "name": "",
         "offsetgroup": "",
         "orientation": "v",
         "showlegend": false,
         "type": "histogram",
         "x": [
          39,
          32,
          53,
          27,
          46,
          32,
          21,
          31,
          33,
          null,
          25,
          33,
          31,
          24,
          35,
          28,
          31,
          29,
          28,
          26,
          37,
          33,
          26,
          46,
          34,
          27,
          25,
          27,
          24,
          25,
          26,
          27,
          29,
          33,
          24,
          25,
          27,
          26,
          31,
          32,
          40,
          29,
          35,
          32,
          18,
          29,
          24,
          24,
          46,
          29,
          30,
          37,
          28,
          40,
          28,
          30,
          34,
          33,
          28,
          34,
          31,
          30,
          39,
          26,
          39,
          31,
          null,
          38,
          48,
          28,
          27,
          26,
          33,
          28,
          39,
          31,
          25,
          43,
          35,
          44,
          31,
          43,
          34,
          32,
          48,
          29,
          33,
          33,
          26,
          50,
          28,
          22,
          31,
          37,
          30,
          36,
          null,
          40,
          51,
          27,
          29,
          32,
          29,
          24,
          31,
          26,
          31,
          44,
          28,
          33,
          39,
          25,
          28,
          31,
          20,
          25,
          24,
          30,
          27,
          26,
          22,
          null,
          32,
          37,
          31,
          27,
          31,
          27,
          33,
          23,
          22,
          42,
          25,
          26,
          34,
          36,
          21,
          29,
          29,
          27,
          25,
          30,
          25,
          29,
          24,
          24,
          31,
          36,
          31,
          33,
          47,
          22,
          26,
          26,
          39,
          30,
          null,
          31,
          41,
          37,
          26,
          32,
          null,
          28,
          24,
          32,
          34,
          44,
          26,
          31,
          34,
          41,
          31,
          39,
          29,
          36,
          22,
          28,
          29,
          31,
          26,
          32,
          25,
          33,
          33,
          29,
          25,
          33,
          24,
          34,
          32,
          46,
          34,
          42,
          21,
          32,
          36,
          39,
          41,
          31,
          35,
          29,
          26,
          24,
          29,
          21,
          33,
          29,
          30,
          32,
          26,
          34,
          34,
          20,
          22,
          45,
          24,
          26,
          26,
          27,
          34,
          31,
          50,
          27,
          34,
          23,
          45,
          33,
          21,
          30,
          26,
          35,
          27,
          31,
          30,
          40,
          24,
          32,
          31,
          34,
          22,
          29,
          36,
          44,
          22,
          29,
          18,
          30,
          28,
          26,
          27,
          24,
          31,
          24,
          31,
          33,
          21,
          30,
          30,
          33,
          34,
          27,
          26,
          28,
          31,
          33,
          37,
          28,
          50,
          31,
          25,
          30,
          33,
          36,
          null,
          22,
          25,
          42,
          27,
          26,
          30,
          24,
          29,
          26,
          29,
          37,
          31,
          29,
          25,
          27,
          29,
          42,
          32,
          45,
          38,
          41,
          26,
          null,
          28,
          23,
          25,
          38,
          32,
          35,
          24,
          25,
          32,
          33,
          24,
          28,
          24,
          31,
          34,
          38,
          43,
          50,
          22,
          33,
          26,
          28,
          38,
          45,
          32,
          22,
          30,
          31,
          31,
          34,
          25,
          32,
          35,
          36,
          34,
          36,
          35,
          54,
          37,
          44,
          40,
          25,
          23,
          38,
          31,
          29,
          38,
          41,
          32,
          30,
          22,
          26,
          25,
          32,
          29,
          32,
          41,
          25,
          28,
          25,
          37,
          35,
          29,
          22,
          25,
          32,
          35,
          29,
          34,
          31,
          45,
          34,
          27,
          25,
          26,
          23,
          26,
          49,
          49,
          37,
          35,
          37,
          39,
          21,
          32,
          46,
          null,
          26,
          41,
          45,
          32,
          36,
          26,
          22,
          28,
          29,
          35,
          25,
          32,
          48,
          33,
          35,
          27,
          37,
          32,
          38,
          54,
          39,
          43,
          35,
          31,
          23,
          41,
          23,
          37,
          54,
          31,
          29,
          27,
          35,
          22,
          20,
          45,
          33,
          39,
          27,
          28,
          null,
          26,
          null,
          26,
          27,
          27,
          49,
          52,
          34,
          40,
          32,
          28,
          39,
          33,
          47,
          46,
          25,
          26,
          45,
          22,
          31,
          44,
          27,
          30,
          37,
          29,
          20,
          26,
          37,
          18,
          30,
          29,
          37,
          32,
          27,
          37,
          27,
          42,
          32,
          28,
          28,
          29,
          29,
          39,
          22,
          30,
          30,
          32,
          30,
          29,
          28,
          42,
          null,
          29,
          35,
          35,
          28,
          27,
          26,
          22,
          32,
          31,
          26,
          32,
          38,
          31,
          34,
          43,
          24,
          22,
          29,
          32,
          39,
          34,
          26,
          28,
          34,
          29,
          23,
          31,
          26,
          29,
          52,
          22,
          29,
          30,
          24,
          21,
          44,
          39,
          25,
          26,
          23,
          30,
          40,
          21,
          34,
          31,
          25,
          30,
          44,
          30,
          30,
          36,
          39,
          28,
          34,
          39,
          27,
          33,
          34,
          37,
          23,
          29,
          32,
          24,
          35,
          23,
          25,
          36,
          36,
          28,
          29,
          31,
          26,
          36,
          27,
          32,
          31,
          31,
          41,
          31,
          27,
          32,
          27,
          23,
          31,
          29,
          32,
          25,
          31,
          25,
          37,
          32,
          23,
          25,
          52,
          30,
          29,
          23,
          29,
          null,
          27,
          51,
          46,
          31,
          35,
          25,
          36,
          33,
          25,
          19,
          43,
          24,
          23,
          43,
          36,
          30,
          38,
          36,
          25,
          24,
          22,
          44,
          48,
          37,
          48,
          33,
          40,
          34,
          28,
          25,
          26,
          32,
          54,
          43,
          32,
          29,
          36,
          35,
          34,
          34,
          21,
          25,
          23,
          20,
          49,
          30,
          27,
          36,
          28,
          26,
          24,
          36,
          32,
          28,
          34,
          44,
          43,
          36,
          30,
          42,
          31,
          27,
          39,
          37,
          39,
          21,
          42,
          30,
          46,
          28,
          27,
          42,
          25,
          32,
          30,
          25,
          48,
          28,
          35,
          43,
          26,
          25,
          27,
          39,
          26,
          32,
          34,
          25,
          34,
          30,
          31,
          25,
          28,
          25,
          36,
          35,
          29,
          40,
          38,
          46,
          26,
          35,
          null,
          28,
          40,
          26,
          28,
          32,
          30,
          34,
          26,
          36,
          24,
          36,
          34,
          43,
          28,
          31,
          26,
          37,
          43,
          32,
          null,
          25,
          24,
          36,
          24,
          45,
          25,
          28,
          26,
          47,
          29,
          19,
          39,
          30,
          23,
          47,
          32,
          38,
          31,
          24,
          24,
          33,
          21,
          31,
          29,
          42,
          32,
          21,
          29,
          31,
          32,
          22,
          30,
          26,
          32,
          32,
          50,
          24,
          36,
          26,
          26,
          24,
          26,
          32,
          25,
          24,
          27,
          35,
          23,
          28,
          30,
          27,
          47,
          34,
          27,
          27,
          31,
          44,
          29,
          30,
          32,
          24,
          50,
          28,
          24,
          25,
          32,
          25,
          27,
          29,
          27,
          28,
          30,
          25,
          44,
          30,
          29,
          28,
          41,
          29,
          47,
          48,
          30,
          54,
          36,
          33,
          26,
          35,
          22,
          23,
          24,
          29,
          30,
          26,
          29,
          36,
          33,
          29,
          35,
          30,
          40,
          27,
          35,
          50,
          36,
          31,
          33,
          29,
          26,
          36,
          37,
          24,
          42,
          24,
          26,
          39,
          31,
          25,
          34,
          31,
          28,
          29,
          52,
          24,
          36,
          38,
          34,
          23,
          null,
          30,
          31,
          26,
          30,
          24,
          35,
          25,
          28,
          26,
          25,
          32,
          33,
          27,
          23,
          27,
          19,
          31,
          29,
          43,
          40,
          28,
          27,
          34,
          32,
          27,
          30,
          32,
          20,
          32,
          28,
          24,
          34,
          34,
          null,
          27,
          32,
          45,
          26,
          33,
          19,
          43,
          37,
          32,
          39,
          31,
          23,
          32,
          33,
          23,
          23,
          25,
          52,
          42,
          23,
          28,
          28,
          33,
          24,
          31,
          23,
          28,
          null,
          22,
          41,
          28,
          24,
          24,
          30,
          45,
          42,
          24,
          29,
          25,
          24,
          30,
          35,
          30,
          30,
          26,
          36,
          36,
          33,
          27,
          30,
          23,
          35,
          43,
          27,
          31,
          46,
          34,
          24,
          35,
          34,
          21,
          27,
          22,
          42,
          28,
          25,
          33,
          26,
          23,
          null,
          30,
          26,
          29,
          31,
          26,
          29,
          38,
          29,
          39,
          34,
          32,
          21,
          31,
          37,
          32,
          26,
          37,
          42,
          36,
          25,
          28,
          37,
          31,
          37,
          26,
          33,
          29,
          41,
          28,
          29,
          21,
          30,
          24,
          32,
          32,
          29,
          43,
          21,
          31,
          26,
          21,
          31,
          33,
          30,
          38,
          34,
          32,
          31,
          42,
          28,
          26,
          28,
          27,
          26,
          24,
          26,
          31,
          24,
          42,
          31,
          27,
          25,
          50,
          37,
          36,
          33,
          31,
          49,
          28,
          31,
          32,
          29,
          27,
          32,
          35,
          25,
          25,
          28,
          29,
          36,
          25,
          34,
          25,
          30,
          30,
          32,
          23,
          37,
          32,
          29,
          26,
          38,
          27,
          28,
          29,
          30,
          32,
          28,
          23,
          27,
          41,
          30,
          35,
          29,
          45,
          23,
          52,
          45,
          42,
          45,
          37,
          36,
          23,
          24,
          31,
          33,
          35,
          28,
          23,
          39,
          24,
          36,
          34,
          19,
          40,
          24,
          29,
          35,
          26,
          25,
          33,
          37,
          32,
          28,
          42,
          22,
          46,
          41,
          28,
          27,
          24,
          30,
          34,
          31,
          26,
          37,
          27,
          49,
          27,
          32,
          20,
          20,
          35,
          26,
          22,
          53,
          24,
          45,
          32,
          24,
          27,
          36,
          32,
          38,
          39,
          27,
          26,
          35,
          28,
          30,
          37,
          44,
          29,
          30,
          36,
          27,
          20,
          29,
          24,
          25,
          41,
          29,
          28,
          25,
          24,
          28,
          26,
          32,
          41,
          33,
          22,
          29,
          29,
          29,
          23,
          30,
          25,
          30,
          28,
          30,
          28,
          31,
          25,
          26,
          29,
          21,
          26,
          34,
          43,
          29,
          26,
          32,
          29,
          26,
          31,
          24,
          47,
          34,
          28,
          33,
          29,
          54,
          38,
          30,
          27,
          30,
          27,
          41,
          31,
          40,
          38,
          null,
          21,
          22,
          31,
          26,
          34,
          40,
          30,
          28,
          30,
          30,
          25,
          23,
          27,
          33,
          25,
          22,
          28,
          28,
          40,
          24,
          26,
          43,
          24,
          29,
          30,
          26,
          54,
          25,
          42,
          23,
          21,
          33,
          30,
          33,
          41,
          28,
          25,
          25,
          22,
          36,
          26,
          34,
          31,
          33,
          44,
          25,
          24,
          32,
          32,
          34,
          29,
          36,
          24,
          26,
          27,
          31,
          39,
          27,
          32,
          24,
          42,
          29,
          null,
          39,
          28,
          51,
          27,
          27,
          22,
          28,
          27,
          25,
          28,
          22,
          29,
          29,
          32,
          31,
          24,
          23,
          28,
          37,
          28,
          20,
          24,
          34,
          36,
          38,
          47,
          26,
          43,
          34,
          27,
          25,
          25,
          21,
          28,
          37,
          31,
          27,
          48,
          37,
          27,
          27,
          29,
          34,
          22,
          28,
          27,
          28,
          38,
          27,
          50,
          28,
          26,
          45,
          37,
          32,
          28,
          27,
          26,
          26,
          33,
          27,
          27,
          24,
          29,
          29,
          32,
          27,
          38,
          24,
          22,
          27,
          37,
          25,
          29,
          23,
          34,
          39,
          29,
          33,
          36,
          38,
          30,
          35,
          25,
          37,
          50,
          26,
          27,
          29,
          36,
          25,
          25,
          31,
          32,
          49,
          26,
          23,
          32,
          37,
          24,
          26,
          26,
          30,
          39,
          25,
          26,
          47,
          29,
          24,
          45,
          37,
          28,
          32,
          26,
          25,
          25,
          29,
          27,
          30,
          23,
          28,
          22,
          37,
          37,
          39,
          39,
          27,
          19,
          null,
          37,
          47,
          23,
          37,
          33,
          25,
          34,
          42,
          20,
          34,
          38,
          24,
          28,
          39,
          21,
          26,
          40,
          30,
          28,
          26,
          24,
          23,
          32,
          27,
          27,
          28,
          25,
          28,
          24,
          21,
          28,
          31,
          39,
          37,
          23,
          29,
          27,
          39,
          18,
          39,
          44,
          26,
          38,
          24,
          20,
          28,
          33,
          24,
          39,
          24,
          44,
          28,
          31,
          24,
          27,
          32,
          24,
          30,
          40,
          28,
          32,
          29,
          39,
          28,
          34,
          33,
          28,
          26,
          35,
          28,
          28,
          27,
          24,
          33,
          31,
          46,
          27,
          31,
          36,
          39,
          30,
          50,
          20,
          27,
          32,
          34,
          41,
          34,
          39,
          30,
          29,
          28,
          22,
          39,
          35,
          27,
          26,
          31,
          48,
          38,
          28,
          29,
          28,
          47,
          31,
          24,
          37,
          26,
          37,
          26,
          30,
          24,
          26,
          35,
          32,
          25,
          29,
          27,
          24,
          25,
          26,
          31,
          39,
          35,
          24,
          32,
          32,
          27,
          26,
          32,
          26,
          31,
          32,
          29,
          34,
          29,
          39,
          40,
          34,
          32,
          24,
          30,
          26,
          40,
          29,
          34,
          null,
          42,
          28,
          22,
          21,
          25,
          26,
          36,
          27,
          32,
          26,
          47,
          42,
          32,
          32,
          27,
          25,
          35,
          28,
          35,
          25,
          28,
          31,
          46,
          35,
          27,
          null,
          29,
          34,
          33,
          27,
          25,
          35,
          37,
          25,
          26,
          28,
          51,
          33,
          28,
          30,
          26,
          48,
          36,
          25,
          30,
          25,
          30,
          45,
          29,
          38,
          27,
          24,
          39,
          37,
          26,
          31,
          32,
          29,
          48,
          34,
          25,
          35,
          31,
          27,
          28,
          26,
          28,
          34,
          52,
          38,
          30,
          41,
          24,
          32,
          25,
          23,
          34,
          32,
          42,
          24,
          39,
          25,
          25,
          33,
          34,
          36,
          40,
          27,
          27,
          29,
          30,
          42,
          23,
          27,
          null,
          28,
          30,
          20,
          29,
          29,
          33,
          33,
          23,
          26,
          28,
          25,
          42,
          30,
          39,
          37,
          44,
          26,
          26,
          43,
          36,
          36,
          29,
          33,
          44,
          30,
          26,
          18,
          32,
          28,
          24,
          34,
          29,
          44,
          42,
          33,
          33,
          31,
          27,
          29,
          24,
          37,
          47,
          19,
          22,
          31,
          35,
          31,
          22,
          35,
          27,
          47,
          43,
          25,
          30,
          34,
          22,
          29,
          31,
          28,
          27,
          43,
          23,
          39,
          39,
          31,
          31,
          40,
          25,
          29,
          45,
          35,
          25,
          34,
          21,
          43,
          46,
          32,
          26,
          31,
          50,
          18,
          38,
          28,
          28,
          46,
          24,
          31,
          31,
          32,
          34,
          38,
          50,
          38,
          36,
          27,
          50,
          27,
          25,
          37,
          29,
          31,
          28,
          35,
          27,
          28,
          23,
          24,
          27,
          28,
          38,
          36,
          30,
          26,
          34,
          23,
          39,
          40,
          32,
          25,
          39,
          34,
          26,
          33,
          24,
          36,
          26,
          42,
          27,
          25,
          26,
          25,
          25,
          28,
          34,
          26,
          41,
          22,
          36,
          25,
          36,
          27,
          37,
          29,
          24,
          40,
          28,
          34,
          24,
          35,
          34,
          30,
          22,
          41,
          38,
          19,
          24,
          43,
          28,
          29,
          23,
          25,
          22,
          27,
          25,
          25,
          26,
          29,
          41,
          33,
          31,
          28,
          null,
          25,
          35,
          21,
          25,
          33,
          48,
          25,
          35,
          53,
          26,
          26,
          33,
          32,
          31,
          23,
          24,
          45,
          34,
          39,
          31,
          26,
          49,
          25,
          36,
          31,
          31,
          25,
          35,
          27,
          30,
          28,
          null,
          22,
          38,
          29,
          47,
          36,
          42,
          28,
          29,
          29,
          35,
          38,
          33,
          32,
          32,
          24,
          28,
          27,
          27,
          35,
          31,
          37,
          25,
          35,
          24,
          23,
          null,
          28,
          40,
          23,
          27,
          24,
          23,
          31,
          35,
          30,
          43,
          26,
          33,
          22,
          39,
          23,
          23,
          24,
          25,
          42,
          27,
          40,
          23,
          24,
          25,
          27,
          29,
          42,
          30,
          26,
          38,
          31,
          29,
          29,
          27,
          37,
          28,
          39,
          30,
          25,
          30,
          27,
          32,
          33,
          28,
          25,
          39,
          30,
          35,
          23,
          36,
          24,
          27,
          22,
          40,
          23,
          30,
          40,
          50,
          23,
          21,
          26,
          22,
          33,
          34,
          37,
          28,
          31,
          24,
          28,
          32,
          27,
          41,
          29,
          20,
          32,
          39,
          26,
          34,
          51,
          27,
          29,
          24,
          33,
          22,
          32,
          30,
          30,
          32,
          32,
          36,
          35,
          34,
          26,
          22,
          32,
          25,
          25,
          null,
          40,
          40,
          28,
          30,
          37,
          29,
          25,
          30,
          22,
          30,
          26,
          27,
          30,
          29,
          28,
          25,
          35,
          25,
          30,
          50,
          27,
          41,
          22,
          25,
          34,
          53,
          41,
          27,
          28,
          27,
          28,
          25,
          28,
          27,
          39,
          30,
          31,
          34,
          27,
          31,
          26,
          23,
          36,
          24,
          null,
          31,
          22,
          36,
          33,
          26,
          25,
          29,
          34,
          54,
          24,
          35,
          26,
          23,
          33,
          25,
          32,
          36,
          32,
          26,
          30,
          34,
          20,
          26,
          26,
          21,
          31,
          29,
          27,
          22,
          23,
          42,
          31,
          25,
          33,
          null,
          39,
          49,
          25,
          53,
          31,
          34,
          28,
          26,
          31,
          32,
          33,
          29,
          28,
          45,
          32,
          38,
          26,
          40,
          26,
          27,
          35,
          26,
          33,
          25,
          33,
          32,
          30,
          28,
          33,
          38,
          31,
          27,
          29,
          33,
          28,
          29,
          41,
          32,
          27,
          30,
          46,
          null,
          34,
          28,
          39,
          47,
          29,
          31,
          43,
          29,
          27,
          43,
          27,
          20,
          28,
          42,
          39,
          27,
          34,
          34,
          25,
          24,
          36,
          24,
          28,
          27,
          25,
          44,
          25,
          33,
          36,
          29,
          32,
          29,
          18,
          27,
          23,
          33,
          34,
          48,
          30,
          38,
          35,
          21,
          35,
          34,
          35,
          32,
          29,
          36,
          30,
          33,
          41,
          50,
          34,
          41,
          27,
          30,
          23,
          36,
          33,
          38,
          22,
          29,
          null,
          40,
          40,
          25,
          39,
          29,
          44,
          26,
          30,
          29,
          36,
          31,
          27,
          29,
          25,
          27,
          30,
          18,
          29,
          31,
          38,
          45,
          32,
          34,
          30,
          25,
          26,
          33,
          32,
          30,
          24,
          36,
          33,
          32,
          36,
          32,
          21,
          28,
          36,
          33,
          19,
          31,
          29,
          33,
          23,
          33,
          25,
          45,
          28,
          25,
          25,
          22,
          27,
          30,
          24,
          27,
          32,
          22,
          26,
          29,
          32,
          46,
          25,
          36,
          25,
          27,
          41,
          35,
          27,
          43,
          32,
          28,
          26,
          27,
          31,
          27,
          44,
          27,
          27,
          32,
          28,
          28,
          28,
          37,
          25,
          26,
          31,
          26,
          21,
          27,
          32,
          25,
          27,
          26,
          28,
          26,
          27,
          33,
          32,
          26,
          53,
          54,
          35,
          45,
          52,
          23,
          37,
          37,
          34,
          22,
          31,
          null,
          34,
          23,
          29,
          null,
          20,
          27,
          30,
          34,
          21,
          50,
          19,
          25,
          24,
          34,
          30,
          34,
          29,
          32,
          32,
          32,
          31,
          31,
          37,
          25,
          30,
          26,
          21,
          37,
          39,
          35,
          30,
          30,
          23,
          32,
          30,
          35,
          21,
          28,
          27,
          null,
          46,
          32,
          25,
          23,
          40,
          null,
          null,
          36,
          21,
          25,
          27,
          54,
          32,
          27,
          32,
          31,
          29,
          34,
          24,
          26,
          30,
          38,
          24,
          29,
          31,
          22,
          28,
          33,
          28,
          28,
          36,
          27,
          36,
          31,
          30,
          30,
          28,
          31,
          32,
          null,
          38,
          31,
          28,
          22,
          36,
          36,
          45,
          27,
          30,
          33,
          33,
          32,
          28,
          29,
          27,
          22,
          34,
          28,
          21,
          25,
          32,
          25,
          26,
          22,
          42,
          31,
          27,
          31,
          28,
          26,
          21,
          24,
          26,
          32,
          34,
          27,
          31,
          34,
          26,
          25,
          28,
          28,
          22,
          27,
          26,
          28,
          30,
          31,
          39,
          25,
          27,
          33,
          27,
          29,
          36,
          24,
          34,
          47,
          30,
          37,
          24,
          52,
          27,
          37,
          35,
          46,
          26,
          30,
          26,
          29,
          33,
          30,
          31,
          23,
          25,
          29,
          36,
          33,
          39,
          31,
          29,
          34,
          28,
          24,
          30,
          35,
          46,
          27,
          28,
          27,
          25,
          null,
          28,
          30,
          26,
          37,
          21,
          28,
          23,
          29,
          30,
          33,
          32,
          31,
          27,
          30,
          39,
          30,
          39,
          26,
          30,
          29,
          34,
          31,
          26,
          48,
          19,
          24,
          27,
          31,
          32,
          25,
          28,
          31,
          33,
          20,
          33,
          43,
          31,
          29,
          25,
          22,
          34,
          28,
          null,
          26,
          31,
          28,
          41,
          25,
          31,
          28,
          30,
          24,
          23,
          49,
          34,
          27,
          23,
          31,
          34,
          28,
          35,
          41,
          28,
          50,
          25,
          38,
          36,
          27,
          36,
          25,
          22,
          28,
          44,
          30,
          36,
          35,
          22,
          26,
          32,
          31,
          22,
          25,
          27,
          40,
          36,
          30,
          33,
          36,
          39,
          26,
          27,
          22,
          34,
          30,
          null,
          32,
          26,
          25,
          39,
          29,
          31,
          47,
          27,
          23,
          40,
          22,
          29,
          34,
          31,
          26,
          31,
          25,
          23,
          42,
          null,
          41,
          24,
          33,
          29,
          30,
          28,
          41,
          39,
          45,
          31,
          27,
          34,
          29,
          35,
          30,
          45,
          23,
          28,
          29,
          33,
          33,
          35,
          25,
          31,
          34,
          19,
          37,
          23,
          23,
          26,
          29,
          43,
          24,
          49,
          30,
          26,
          31,
          33,
          24,
          41,
          26,
          43,
          22,
          29,
          35,
          20,
          50,
          25,
          36,
          27,
          35,
          42,
          27,
          36,
          47,
          30,
          25,
          23,
          46,
          30,
          25,
          33,
          31,
          23,
          26,
          26,
          35,
          26,
          33,
          30,
          32,
          33,
          25,
          34,
          27,
          47,
          29,
          28,
          31,
          27,
          24,
          31,
          21,
          36,
          34,
          22,
          21,
          24,
          22,
          40,
          28,
          26,
          36,
          30,
          31,
          29,
          34,
          27,
          21,
          46,
          35,
          50,
          31,
          29,
          31,
          33,
          47,
          31,
          34,
          30,
          24,
          30,
          36,
          46,
          30,
          38,
          19,
          31,
          33,
          27,
          48,
          26,
          19,
          41,
          23,
          40,
          30,
          26,
          26,
          28,
          28,
          26,
          44,
          38,
          41,
          30,
          33,
          32,
          25,
          37,
          36,
          28,
          25,
          36,
          32,
          40,
          27,
          33,
          40,
          25,
          40,
          42,
          34,
          35,
          36,
          23,
          25,
          36,
          26,
          31,
          29,
          33,
          29,
          37,
          37,
          29,
          28,
          18,
          43,
          23,
          42,
          35,
          28,
          27,
          24,
          42,
          32,
          30,
          31,
          36,
          29,
          45,
          27,
          32,
          33,
          46,
          37,
          32,
          39,
          26,
          24,
          30,
          31,
          30,
          32,
          28,
          22,
          30,
          27,
          34,
          37,
          24,
          41,
          24,
          28,
          25,
          27,
          18,
          29,
          25,
          22,
          41,
          53,
          36,
          33,
          22,
          30,
          27,
          26,
          39,
          33,
          24,
          23,
          32,
          26,
          24,
          28,
          42,
          41,
          53,
          39,
          36,
          26,
          24,
          32,
          28,
          21,
          25,
          29,
          30,
          33,
          44,
          36,
          null,
          35,
          25,
          40,
          31,
          26,
          32,
          25,
          25,
          26,
          30,
          25,
          24,
          30,
          26,
          50,
          25,
          36,
          22,
          27,
          22,
          29,
          33,
          30,
          31,
          40,
          27,
          30,
          51,
          37,
          44,
          42,
          26,
          51,
          32,
          39,
          35,
          23,
          20,
          30,
          31,
          29,
          18,
          28,
          39,
          26,
          null,
          26,
          23,
          30,
          30,
          32,
          42,
          28,
          37,
          23,
          25,
          41,
          52,
          23,
          39,
          25,
          32,
          23,
          26,
          39,
          27,
          31,
          36,
          32,
          29,
          21,
          33,
          30,
          40,
          33,
          21,
          33,
          37,
          23,
          44,
          45,
          34,
          29,
          28,
          31,
          29,
          29,
          37,
          37,
          24,
          32,
          21,
          31,
          25,
          29,
          43,
          52,
          28,
          37,
          37,
          32,
          25,
          34,
          null,
          30,
          31,
          31,
          32,
          36,
          32,
          30,
          34,
          27,
          24,
          45,
          32,
          21,
          27,
          30,
          38,
          28,
          31,
          29,
          34,
          26,
          26,
          35,
          24,
          39,
          33,
          25,
          null,
          32,
          19,
          35,
          28,
          21,
          34,
          25,
          29,
          35,
          null,
          39,
          33,
          22,
          52,
          33,
          25,
          34,
          27,
          27,
          30,
          20,
          34,
          27,
          54,
          28,
          26,
          27,
          47,
          23,
          24,
          19,
          27,
          34,
          26,
          35,
          47,
          34,
          32,
          40,
          32,
          24,
          29,
          50,
          27,
          35,
          25,
          24,
          36,
          37,
          30,
          30,
          28,
          36,
          28,
          26,
          41,
          46,
          43,
          24,
          24,
          44,
          27,
          32,
          28,
          32,
          25,
          38,
          42,
          33,
          24,
          28,
          26,
          32,
          33,
          26,
          26,
          24,
          25,
          26,
          26,
          31,
          32,
          44,
          33,
          30,
          42,
          40,
          36,
          48,
          32,
          28,
          36,
          23,
          34,
          40,
          27,
          30,
          50,
          34,
          28,
          35,
          19,
          20,
          36,
          null,
          39,
          31,
          27,
          37,
          30,
          null,
          21,
          50,
          22,
          24,
          32,
          39,
          27,
          28,
          35,
          18,
          44,
          35,
          27,
          33,
          28,
          30,
          31,
          null,
          35,
          36,
          36,
          27,
          25,
          36,
          24,
          25,
          34,
          23,
          36,
          28,
          35,
          32,
          38,
          29,
          24,
          34,
          24,
          41,
          38,
          36,
          26,
          36,
          28,
          19,
          23,
          34,
          26,
          22,
          47,
          23,
          25,
          37,
          24,
          28,
          38,
          27,
          34,
          41,
          29,
          31,
          33,
          36,
          27,
          37,
          25,
          32,
          41,
          29,
          31,
          23,
          29,
          32,
          40,
          28,
          23,
          37,
          35,
          33,
          36,
          28,
          35,
          25,
          38,
          35,
          38,
          52,
          null,
          33,
          38,
          27,
          27,
          23,
          26,
          28,
          26,
          27,
          30,
          31,
          25,
          29,
          21,
          26,
          21,
          31,
          34,
          27,
          36,
          33,
          27,
          43,
          50,
          31,
          34,
          30,
          26,
          30,
          28,
          21,
          31,
          28,
          26,
          25,
          39,
          24,
          30,
          27,
          31,
          40,
          21,
          26,
          26,
          27,
          32,
          25,
          50,
          31,
          34,
          24,
          23,
          24,
          31,
          28,
          28,
          40,
          30,
          50,
          40,
          23,
          26,
          34,
          38,
          41,
          43,
          22,
          30,
          26,
          21,
          26,
          37,
          null,
          30,
          35,
          38,
          26,
          25,
          49,
          34,
          38,
          37,
          48,
          27,
          31,
          28,
          22,
          32,
          25,
          27,
          36,
          24,
          26,
          18,
          33,
          32,
          26,
          41,
          42,
          30,
          29,
          23,
          54,
          27,
          33,
          28,
          33,
          40,
          22,
          42,
          null,
          24,
          24,
          29,
          31,
          32,
          36,
          34,
          38,
          33,
          33,
          27,
          22,
          31,
          31,
          49,
          30,
          44,
          25,
          29,
          34,
          27,
          33,
          32,
          30,
          21,
          34,
          31,
          36,
          28,
          28,
          34,
          29,
          22,
          34,
          20,
          42,
          27,
          35,
          51,
          28,
          45,
          44,
          35,
          39,
          28,
          20,
          53,
          39,
          21,
          29,
          26,
          27,
          28,
          21,
          39,
          29,
          31,
          37,
          36,
          35,
          30,
          32,
          29,
          29,
          23,
          21,
          32,
          20,
          24,
          25,
          44,
          26,
          34,
          35,
          35,
          30,
          28,
          26,
          28,
          28,
          22,
          38,
          37,
          25,
          27,
          29,
          26,
          27,
          29,
          38,
          28,
          30,
          21,
          29,
          47,
          33,
          22,
          19,
          37,
          36,
          25,
          39,
          29,
          25,
          34,
          28,
          27,
          34,
          29,
          31,
          29,
          29,
          36,
          26,
          27,
          37,
          23,
          25,
          23,
          26,
          22,
          33,
          30,
          22,
          26,
          24,
          39,
          29,
          33,
          30,
          31,
          27,
          32,
          38,
          26,
          23,
          34,
          29,
          31,
          36,
          34,
          28,
          37,
          42,
          27,
          43,
          39,
          32,
          30,
          41,
          27,
          41,
          24,
          25,
          26,
          35,
          25,
          null,
          24,
          25,
          31,
          27,
          29,
          29,
          30,
          30,
          26,
          24,
          33,
          32,
          29,
          37,
          28,
          null,
          26,
          32,
          25,
          38,
          43,
          28,
          36,
          27,
          38,
          31,
          28,
          26,
          44,
          29,
          28,
          26,
          null,
          27,
          26,
          32,
          37,
          32,
          50,
          34,
          43,
          36,
          52,
          35,
          23,
          30,
          26,
          36,
          23,
          32,
          40,
          34,
          24,
          25,
          31,
          31,
          23,
          31,
          45,
          22,
          null,
          28,
          30,
          27,
          29,
          31,
          35,
          34,
          42,
          22,
          32,
          40,
          25,
          24,
          29,
          48,
          27,
          32,
          53,
          36,
          26,
          29,
          37,
          23,
          27,
          38,
          35,
          40,
          24,
          35,
          28,
          null,
          30,
          33,
          34,
          36,
          22,
          25,
          37,
          28,
          33,
          31,
          19,
          35,
          32,
          33,
          53,
          27,
          34,
          25,
          25,
          25,
          35,
          35,
          23,
          31,
          35,
          34,
          23,
          27,
          35,
          25,
          53,
          28,
          31,
          34,
          24,
          27,
          24,
          35,
          22,
          32,
          28,
          28,
          35,
          25,
          40,
          25,
          31,
          39,
          35,
          25,
          37,
          25,
          23,
          30,
          30,
          36,
          null,
          25,
          30,
          39,
          21,
          43,
          24,
          28,
          null,
          29,
          null,
          31,
          31,
          31,
          26,
          29,
          30,
          27,
          38,
          30,
          37,
          30,
          31,
          33,
          24,
          24,
          27,
          24,
          30,
          46,
          28,
          29,
          28,
          39,
          38,
          27,
          33,
          33,
          22,
          50,
          29,
          49,
          43,
          22,
          31,
          36,
          24,
          28,
          31,
          25,
          35,
          52,
          26,
          26,
          31,
          26,
          30,
          28,
          25,
          27,
          44,
          27,
          36,
          32,
          29,
          33,
          34,
          30,
          21,
          21,
          23,
          27,
          33,
          29,
          25,
          33,
          35,
          42,
          25,
          28,
          33,
          27,
          37,
          null,
          34,
          21,
          33,
          40,
          25,
          24,
          28,
          28,
          null,
          27,
          32,
          24,
          35,
          27,
          27,
          41,
          35,
          33,
          36,
          28,
          34,
          31,
          29,
          30,
          23,
          25,
          30,
          31,
          51,
          27,
          37,
          34,
          25,
          28,
          36,
          37,
          28,
          36,
          26,
          39,
          36,
          25,
          28,
          32,
          52,
          26,
          36,
          31,
          23,
          23,
          28,
          35,
          27,
          41,
          21,
          25,
          31,
          33,
          43,
          35,
          37,
          35,
          37,
          26,
          51,
          27,
          28,
          25,
          28,
          34,
          31,
          29,
          29,
          31,
          27,
          34,
          42,
          36,
          26,
          29,
          null,
          27,
          23,
          29,
          24,
          23,
          21,
          26,
          25,
          24,
          21,
          38,
          29,
          30,
          52,
          28,
          37,
          36,
          41,
          28,
          33,
          44,
          24,
          33,
          38,
          36,
          26,
          52,
          28,
          35,
          30,
          47,
          26,
          26,
          34,
          28,
          26,
          33,
          25,
          25,
          24,
          27,
          26,
          36,
          49,
          39,
          37,
          23,
          23,
          31,
          39,
          30,
          30,
          39,
          42,
          23,
          50,
          30,
          23,
          34,
          31,
          20,
          25,
          31,
          34,
          21,
          29,
          23,
          32,
          22,
          30,
          25,
          26,
          34,
          22,
          31,
          38,
          23,
          28,
          25,
          26,
          24,
          25,
          30,
          46,
          49,
          40,
          25,
          35,
          28,
          26,
          35,
          23,
          34,
          31,
          24,
          30,
          25,
          46,
          34,
          31,
          38,
          23,
          24,
          34,
          29,
          24,
          39,
          27,
          40,
          28,
          28,
          28,
          44,
          35,
          36,
          28,
          19,
          null,
          40,
          28,
          44,
          28,
          23,
          22,
          27,
          28,
          33,
          36,
          39,
          20,
          30,
          27,
          28,
          36,
          34,
          30,
          31,
          43,
          25,
          23,
          27,
          32,
          33,
          26,
          25,
          25,
          25,
          27,
          30,
          25,
          25,
          33,
          29,
          33,
          24,
          34,
          46,
          35,
          25,
          38,
          32,
          30,
          23,
          36,
          23,
          32,
          38,
          28,
          28,
          31,
          30,
          34,
          33,
          21,
          26,
          27,
          28,
          25,
          22,
          47,
          21,
          35,
          26,
          23,
          22,
          39,
          28,
          31,
          28,
          24,
          26,
          32,
          26,
          33,
          47,
          35,
          33,
          24,
          27,
          27,
          45,
          31,
          27,
          38,
          21,
          28,
          22,
          31,
          34,
          29,
          21,
          27,
          26,
          32,
          27,
          47,
          35,
          25,
          27,
          32,
          23,
          28,
          38,
          41,
          33,
          34,
          34,
          25,
          27,
          36,
          27,
          31,
          34,
          35,
          32,
          49,
          30,
          34,
          32,
          25,
          39,
          46,
          39,
          23,
          37,
          35,
          45,
          24,
          41,
          29,
          31,
          33,
          39,
          45,
          45,
          26,
          37,
          40,
          30,
          37,
          28,
          27,
          37,
          35,
          29,
          22,
          27,
          24,
          35,
          27,
          36,
          47,
          21,
          23,
          43,
          43,
          29,
          30,
          23,
          29,
          28,
          28,
          31,
          27,
          29,
          24,
          30,
          25,
          48,
          30,
          24,
          33,
          45,
          27,
          34,
          20,
          40,
          31,
          27,
          30,
          30,
          23,
          32,
          27,
          43,
          28,
          30,
          21,
          23,
          32,
          36,
          26,
          50,
          36,
          21,
          47,
          42,
          20,
          27,
          29,
          37,
          36,
          39,
          43,
          28,
          25,
          26,
          41,
          32,
          27,
          32,
          27,
          27,
          36,
          34,
          41,
          null,
          32,
          21,
          35,
          41,
          24,
          33,
          36,
          24,
          45,
          36,
          25,
          27,
          41,
          35,
          26,
          25,
          31,
          21,
          27,
          41,
          44,
          32,
          32,
          31,
          33,
          34,
          54,
          22,
          40,
          28,
          27,
          26,
          40,
          43,
          20,
          28,
          28,
          40,
          26,
          26,
          31,
          null,
          37,
          44,
          32,
          48,
          null,
          22,
          31,
          50,
          26,
          28,
          26,
          35,
          44,
          25,
          27,
          29,
          35,
          null,
          25,
          25,
          27,
          31,
          33,
          31,
          23,
          22,
          45,
          32,
          24,
          45,
          25,
          28,
          49,
          29,
          38,
          28,
          31,
          28,
          25,
          28,
          20,
          21,
          null,
          30,
          28,
          33,
          29,
          27,
          33,
          27,
          31,
          50,
          36,
          23,
          29,
          25,
          25,
          26,
          30,
          25,
          24,
          52,
          33,
          48,
          29,
          25,
          25,
          29,
          27,
          29,
          28,
          31,
          23,
          29,
          29,
          32,
          27,
          37,
          35,
          37,
          27,
          26,
          32,
          34,
          30,
          30,
          27,
          26,
          44,
          30,
          24,
          22,
          41,
          35,
          30,
          24,
          25,
          52,
          31,
          29,
          35,
          49,
          30,
          38,
          25,
          29,
          31,
          27,
          33,
          37,
          34,
          32,
          38,
          34,
          23,
          37,
          25,
          29,
          43,
          27,
          24,
          31,
          39,
          27,
          23,
          24,
          26,
          26,
          32,
          26,
          30,
          29,
          27,
          null,
          21,
          33,
          30,
          40,
          29,
          37,
          25,
          26,
          35,
          26,
          31,
          19,
          20,
          30,
          32,
          25,
          33,
          41,
          27,
          33,
          28,
          29,
          28,
          30,
          31,
          34,
          39,
          36,
          22,
          30,
          31,
          31,
          43,
          38,
          26,
          35,
          41,
          null,
          29,
          43,
          30,
          25,
          28,
          34,
          32,
          47,
          28,
          22,
          45,
          28,
          40,
          30,
          49,
          27,
          27,
          26,
          33,
          25,
          34,
          26,
          23,
          30,
          37,
          23,
          26,
          41,
          36,
          27,
          33,
          34,
          27,
          29,
          26,
          34,
          39,
          29,
          28,
          30,
          28,
          46,
          25,
          28,
          36,
          33,
          31,
          26,
          37,
          28,
          26,
          30,
          29,
          null,
          24
         ],
         "xaxis": "x",
         "yaxis": "y"
        }
       ],
       "layout": {
        "barmode": "relative",
        "legend": {
         "tracegroupgap": 0
        },
        "template": {
         "data": {
          "bar": [
           {
            "error_x": {
             "color": "#2a3f5f"
            },
            "error_y": {
             "color": "#2a3f5f"
            },
            "marker": {
             "line": {
              "color": "#E5ECF6",
              "width": 0.5
             },
             "pattern": {
              "fillmode": "overlay",
              "size": 10,
              "solidity": 0.2
             }
            },
            "type": "bar"
           }
          ],
          "barpolar": [
           {
            "marker": {
             "line": {
              "color": "#E5ECF6",
              "width": 0.5
             },
             "pattern": {
              "fillmode": "overlay",
              "size": 10,
              "solidity": 0.2
             }
            },
            "type": "barpolar"
           }
          ],
          "carpet": [
           {
            "aaxis": {
             "endlinecolor": "#2a3f5f",
             "gridcolor": "white",
             "linecolor": "white",
             "minorgridcolor": "white",
             "startlinecolor": "#2a3f5f"
            },
            "baxis": {
             "endlinecolor": "#2a3f5f",
             "gridcolor": "white",
             "linecolor": "white",
             "minorgridcolor": "white",
             "startlinecolor": "#2a3f5f"
            },
            "type": "carpet"
           }
          ],
          "choropleth": [
           {
            "colorbar": {
             "outlinewidth": 0,
             "ticks": ""
            },
            "type": "choropleth"
           }
          ],
          "contour": [
           {
            "colorbar": {
             "outlinewidth": 0,
             "ticks": ""
            },
            "colorscale": [
             [
              0,
              "#0d0887"
             ],
             [
              0.1111111111111111,
              "#46039f"
             ],
             [
              0.2222222222222222,
              "#7201a8"
             ],
             [
              0.3333333333333333,
              "#9c179e"
             ],
             [
              0.4444444444444444,
              "#bd3786"
             ],
             [
              0.5555555555555556,
              "#d8576b"
             ],
             [
              0.6666666666666666,
              "#ed7953"
             ],
             [
              0.7777777777777778,
              "#fb9f3a"
             ],
             [
              0.8888888888888888,
              "#fdca26"
             ],
             [
              1,
              "#f0f921"
             ]
            ],
            "type": "contour"
           }
          ],
          "contourcarpet": [
           {
            "colorbar": {
             "outlinewidth": 0,
             "ticks": ""
            },
            "type": "contourcarpet"
           }
          ],
          "heatmap": [
           {
            "colorbar": {
             "outlinewidth": 0,
             "ticks": ""
            },
            "colorscale": [
             [
              0,
              "#0d0887"
             ],
             [
              0.1111111111111111,
              "#46039f"
             ],
             [
              0.2222222222222222,
              "#7201a8"
             ],
             [
              0.3333333333333333,
              "#9c179e"
             ],
             [
              0.4444444444444444,
              "#bd3786"
             ],
             [
              0.5555555555555556,
              "#d8576b"
             ],
             [
              0.6666666666666666,
              "#ed7953"
             ],
             [
              0.7777777777777778,
              "#fb9f3a"
             ],
             [
              0.8888888888888888,
              "#fdca26"
             ],
             [
              1,
              "#f0f921"
             ]
            ],
            "type": "heatmap"
           }
          ],
          "heatmapgl": [
           {
            "colorbar": {
             "outlinewidth": 0,
             "ticks": ""
            },
            "colorscale": [
             [
              0,
              "#0d0887"
             ],
             [
              0.1111111111111111,
              "#46039f"
             ],
             [
              0.2222222222222222,
              "#7201a8"
             ],
             [
              0.3333333333333333,
              "#9c179e"
             ],
             [
              0.4444444444444444,
              "#bd3786"
             ],
             [
              0.5555555555555556,
              "#d8576b"
             ],
             [
              0.6666666666666666,
              "#ed7953"
             ],
             [
              0.7777777777777778,
              "#fb9f3a"
             ],
             [
              0.8888888888888888,
              "#fdca26"
             ],
             [
              1,
              "#f0f921"
             ]
            ],
            "type": "heatmapgl"
           }
          ],
          "histogram": [
           {
            "marker": {
             "pattern": {
              "fillmode": "overlay",
              "size": 10,
              "solidity": 0.2
             }
            },
            "type": "histogram"
           }
          ],
          "histogram2d": [
           {
            "colorbar": {
             "outlinewidth": 0,
             "ticks": ""
            },
            "colorscale": [
             [
              0,
              "#0d0887"
             ],
             [
              0.1111111111111111,
              "#46039f"
             ],
             [
              0.2222222222222222,
              "#7201a8"
             ],
             [
              0.3333333333333333,
              "#9c179e"
             ],
             [
              0.4444444444444444,
              "#bd3786"
             ],
             [
              0.5555555555555556,
              "#d8576b"
             ],
             [
              0.6666666666666666,
              "#ed7953"
             ],
             [
              0.7777777777777778,
              "#fb9f3a"
             ],
             [
              0.8888888888888888,
              "#fdca26"
             ],
             [
              1,
              "#f0f921"
             ]
            ],
            "type": "histogram2d"
           }
          ],
          "histogram2dcontour": [
           {
            "colorbar": {
             "outlinewidth": 0,
             "ticks": ""
            },
            "colorscale": [
             [
              0,
              "#0d0887"
             ],
             [
              0.1111111111111111,
              "#46039f"
             ],
             [
              0.2222222222222222,
              "#7201a8"
             ],
             [
              0.3333333333333333,
              "#9c179e"
             ],
             [
              0.4444444444444444,
              "#bd3786"
             ],
             [
              0.5555555555555556,
              "#d8576b"
             ],
             [
              0.6666666666666666,
              "#ed7953"
             ],
             [
              0.7777777777777778,
              "#fb9f3a"
             ],
             [
              0.8888888888888888,
              "#fdca26"
             ],
             [
              1,
              "#f0f921"
             ]
            ],
            "type": "histogram2dcontour"
           }
          ],
          "mesh3d": [
           {
            "colorbar": {
             "outlinewidth": 0,
             "ticks": ""
            },
            "type": "mesh3d"
           }
          ],
          "parcoords": [
           {
            "line": {
             "colorbar": {
              "outlinewidth": 0,
              "ticks": ""
             }
            },
            "type": "parcoords"
           }
          ],
          "pie": [
           {
            "automargin": true,
            "type": "pie"
           }
          ],
          "scatter": [
           {
            "fillpattern": {
             "fillmode": "overlay",
             "size": 10,
             "solidity": 0.2
            },
            "type": "scatter"
           }
          ],
          "scatter3d": [
           {
            "line": {
             "colorbar": {
              "outlinewidth": 0,
              "ticks": ""
             }
            },
            "marker": {
             "colorbar": {
              "outlinewidth": 0,
              "ticks": ""
             }
            },
            "type": "scatter3d"
           }
          ],
          "scattercarpet": [
           {
            "marker": {
             "colorbar": {
              "outlinewidth": 0,
              "ticks": ""
             }
            },
            "type": "scattercarpet"
           }
          ],
          "scattergeo": [
           {
            "marker": {
             "colorbar": {
              "outlinewidth": 0,
              "ticks": ""
             }
            },
            "type": "scattergeo"
           }
          ],
          "scattergl": [
           {
            "marker": {
             "colorbar": {
              "outlinewidth": 0,
              "ticks": ""
             }
            },
            "type": "scattergl"
           }
          ],
          "scattermapbox": [
           {
            "marker": {
             "colorbar": {
              "outlinewidth": 0,
              "ticks": ""
             }
            },
            "type": "scattermapbox"
           }
          ],
          "scatterpolar": [
           {
            "marker": {
             "colorbar": {
              "outlinewidth": 0,
              "ticks": ""
             }
            },
            "type": "scatterpolar"
           }
          ],
          "scatterpolargl": [
           {
            "marker": {
             "colorbar": {
              "outlinewidth": 0,
              "ticks": ""
             }
            },
            "type": "scatterpolargl"
           }
          ],
          "scatterternary": [
           {
            "marker": {
             "colorbar": {
              "outlinewidth": 0,
              "ticks": ""
             }
            },
            "type": "scatterternary"
           }
          ],
          "surface": [
           {
            "colorbar": {
             "outlinewidth": 0,
             "ticks": ""
            },
            "colorscale": [
             [
              0,
              "#0d0887"
             ],
             [
              0.1111111111111111,
              "#46039f"
             ],
             [
              0.2222222222222222,
              "#7201a8"
             ],
             [
              0.3333333333333333,
              "#9c179e"
             ],
             [
              0.4444444444444444,
              "#bd3786"
             ],
             [
              0.5555555555555556,
              "#d8576b"
             ],
             [
              0.6666666666666666,
              "#ed7953"
             ],
             [
              0.7777777777777778,
              "#fb9f3a"
             ],
             [
              0.8888888888888888,
              "#fdca26"
             ],
             [
              1,
              "#f0f921"
             ]
            ],
            "type": "surface"
           }
          ],
          "table": [
           {
            "cells": {
             "fill": {
              "color": "#EBF0F8"
             },
             "line": {
              "color": "white"
             }
            },
            "header": {
             "fill": {
              "color": "#C8D4E3"
             },
             "line": {
              "color": "white"
             }
            },
            "type": "table"
           }
          ]
         },
         "layout": {
          "annotationdefaults": {
           "arrowcolor": "#2a3f5f",
           "arrowhead": 0,
           "arrowwidth": 1
          },
          "autotypenumbers": "strict",
          "coloraxis": {
           "colorbar": {
            "outlinewidth": 0,
            "ticks": ""
           }
          },
          "colorscale": {
           "diverging": [
            [
             0,
             "#8e0152"
            ],
            [
             0.1,
             "#c51b7d"
            ],
            [
             0.2,
             "#de77ae"
            ],
            [
             0.3,
             "#f1b6da"
            ],
            [
             0.4,
             "#fde0ef"
            ],
            [
             0.5,
             "#f7f7f7"
            ],
            [
             0.6,
             "#e6f5d0"
            ],
            [
             0.7,
             "#b8e186"
            ],
            [
             0.8,
             "#7fbc41"
            ],
            [
             0.9,
             "#4d9221"
            ],
            [
             1,
             "#276419"
            ]
           ],
           "sequential": [
            [
             0,
             "#0d0887"
            ],
            [
             0.1111111111111111,
             "#46039f"
            ],
            [
             0.2222222222222222,
             "#7201a8"
            ],
            [
             0.3333333333333333,
             "#9c179e"
            ],
            [
             0.4444444444444444,
             "#bd3786"
            ],
            [
             0.5555555555555556,
             "#d8576b"
            ],
            [
             0.6666666666666666,
             "#ed7953"
            ],
            [
             0.7777777777777778,
             "#fb9f3a"
            ],
            [
             0.8888888888888888,
             "#fdca26"
            ],
            [
             1,
             "#f0f921"
            ]
           ],
           "sequentialminus": [
            [
             0,
             "#0d0887"
            ],
            [
             0.1111111111111111,
             "#46039f"
            ],
            [
             0.2222222222222222,
             "#7201a8"
            ],
            [
             0.3333333333333333,
             "#9c179e"
            ],
            [
             0.4444444444444444,
             "#bd3786"
            ],
            [
             0.5555555555555556,
             "#d8576b"
            ],
            [
             0.6666666666666666,
             "#ed7953"
            ],
            [
             0.7777777777777778,
             "#fb9f3a"
            ],
            [
             0.8888888888888888,
             "#fdca26"
            ],
            [
             1,
             "#f0f921"
            ]
           ]
          },
          "colorway": [
           "#636efa",
           "#EF553B",
           "#00cc96",
           "#ab63fa",
           "#FFA15A",
           "#19d3f3",
           "#FF6692",
           "#B6E880",
           "#FF97FF",
           "#FECB52"
          ],
          "font": {
           "color": "#2a3f5f"
          },
          "geo": {
           "bgcolor": "white",
           "lakecolor": "white",
           "landcolor": "#E5ECF6",
           "showlakes": true,
           "showland": true,
           "subunitcolor": "white"
          },
          "hoverlabel": {
           "align": "left"
          },
          "hovermode": "closest",
          "mapbox": {
           "style": "light"
          },
          "paper_bgcolor": "white",
          "plot_bgcolor": "#E5ECF6",
          "polar": {
           "angularaxis": {
            "gridcolor": "white",
            "linecolor": "white",
            "ticks": ""
           },
           "bgcolor": "#E5ECF6",
           "radialaxis": {
            "gridcolor": "white",
            "linecolor": "white",
            "ticks": ""
           }
          },
          "scene": {
           "xaxis": {
            "backgroundcolor": "#E5ECF6",
            "gridcolor": "white",
            "gridwidth": 2,
            "linecolor": "white",
            "showbackground": true,
            "ticks": "",
            "zerolinecolor": "white"
           },
           "yaxis": {
            "backgroundcolor": "#E5ECF6",
            "gridcolor": "white",
            "gridwidth": 2,
            "linecolor": "white",
            "showbackground": true,
            "ticks": "",
            "zerolinecolor": "white"
           },
           "zaxis": {
            "backgroundcolor": "#E5ECF6",
            "gridcolor": "white",
            "gridwidth": 2,
            "linecolor": "white",
            "showbackground": true,
            "ticks": "",
            "zerolinecolor": "white"
           }
          },
          "shapedefaults": {
           "line": {
            "color": "#2a3f5f"
           }
          },
          "ternary": {
           "aaxis": {
            "gridcolor": "white",
            "linecolor": "white",
            "ticks": ""
           },
           "baxis": {
            "gridcolor": "white",
            "linecolor": "white",
            "ticks": ""
           },
           "bgcolor": "#E5ECF6",
           "caxis": {
            "gridcolor": "white",
            "linecolor": "white",
            "ticks": ""
           }
          },
          "title": {
           "x": 0.05
          },
          "xaxis": {
           "automargin": true,
           "gridcolor": "white",
           "linecolor": "white",
           "ticks": "",
           "title": {
            "standoff": 15
           },
           "zerolinecolor": "white",
           "zerolinewidth": 2
          },
          "yaxis": {
           "automargin": true,
           "gridcolor": "white",
           "linecolor": "white",
           "ticks": "",
           "title": {
            "standoff": 15
           },
           "zerolinecolor": "white",
           "zerolinewidth": 2
          }
         }
        },
        "title": {
         "text": "Distribuição de Idade dos Respondentes"
        },
        "xaxis": {
         "anchor": "y",
         "domain": [
          0,
          1
         ],
         "title": {
          "text": "Idade"
         }
        },
        "yaxis": {
         "anchor": "x",
         "domain": [
          0,
          1
         ],
         "title": {
          "text": "Número de Respondentes"
         }
        }
       }
      }
     },
     "metadata": {},
     "output_type": "display_data"
    }
   ],
   "source": [
    "#PERGUNTA: Qual é a distribuição de idade dos respondentes?\n",
    "fig = px.histogram(df, x='Idade', title='Distribuição de Idade dos Respondentes'\n",
    "    , color_discrete_sequence=['darkblue'])\n",
    "\n",
    "fig.update_yaxes(title_text='Número de Respondentes')\n",
    "\n",
    "fig.show()"
   ]
  },
  {
   "cell_type": "code",
   "execution_count": 4,
   "metadata": {},
   "outputs": [
    {
     "data": {
      "application/vnd.plotly.v1+json": {
       "config": {
        "plotlyServerURL": "https://plot.ly"
       },
       "data": [
        {
         "domain": {
          "x": [
           0,
           1
          ],
          "y": [
           0,
           1
          ]
         },
         "hovertemplate": "Genero=%{label}<br>Contagem=%{value}<extra></extra>",
         "labels": [
          "Masculino",
          "Feminino",
          "Prefiro não informar"
         ],
         "legendgroup": "",
         "name": "",
         "showlegend": true,
         "type": "pie",
         "values": [
          3194,
          1056,
          12
         ]
        }
       ],
       "layout": {
        "legend": {
         "tracegroupgap": 0
        },
        "template": {
         "data": {
          "bar": [
           {
            "error_x": {
             "color": "#2a3f5f"
            },
            "error_y": {
             "color": "#2a3f5f"
            },
            "marker": {
             "line": {
              "color": "#E5ECF6",
              "width": 0.5
             },
             "pattern": {
              "fillmode": "overlay",
              "size": 10,
              "solidity": 0.2
             }
            },
            "type": "bar"
           }
          ],
          "barpolar": [
           {
            "marker": {
             "line": {
              "color": "#E5ECF6",
              "width": 0.5
             },
             "pattern": {
              "fillmode": "overlay",
              "size": 10,
              "solidity": 0.2
             }
            },
            "type": "barpolar"
           }
          ],
          "carpet": [
           {
            "aaxis": {
             "endlinecolor": "#2a3f5f",
             "gridcolor": "white",
             "linecolor": "white",
             "minorgridcolor": "white",
             "startlinecolor": "#2a3f5f"
            },
            "baxis": {
             "endlinecolor": "#2a3f5f",
             "gridcolor": "white",
             "linecolor": "white",
             "minorgridcolor": "white",
             "startlinecolor": "#2a3f5f"
            },
            "type": "carpet"
           }
          ],
          "choropleth": [
           {
            "colorbar": {
             "outlinewidth": 0,
             "ticks": ""
            },
            "type": "choropleth"
           }
          ],
          "contour": [
           {
            "colorbar": {
             "outlinewidth": 0,
             "ticks": ""
            },
            "colorscale": [
             [
              0,
              "#0d0887"
             ],
             [
              0.1111111111111111,
              "#46039f"
             ],
             [
              0.2222222222222222,
              "#7201a8"
             ],
             [
              0.3333333333333333,
              "#9c179e"
             ],
             [
              0.4444444444444444,
              "#bd3786"
             ],
             [
              0.5555555555555556,
              "#d8576b"
             ],
             [
              0.6666666666666666,
              "#ed7953"
             ],
             [
              0.7777777777777778,
              "#fb9f3a"
             ],
             [
              0.8888888888888888,
              "#fdca26"
             ],
             [
              1,
              "#f0f921"
             ]
            ],
            "type": "contour"
           }
          ],
          "contourcarpet": [
           {
            "colorbar": {
             "outlinewidth": 0,
             "ticks": ""
            },
            "type": "contourcarpet"
           }
          ],
          "heatmap": [
           {
            "colorbar": {
             "outlinewidth": 0,
             "ticks": ""
            },
            "colorscale": [
             [
              0,
              "#0d0887"
             ],
             [
              0.1111111111111111,
              "#46039f"
             ],
             [
              0.2222222222222222,
              "#7201a8"
             ],
             [
              0.3333333333333333,
              "#9c179e"
             ],
             [
              0.4444444444444444,
              "#bd3786"
             ],
             [
              0.5555555555555556,
              "#d8576b"
             ],
             [
              0.6666666666666666,
              "#ed7953"
             ],
             [
              0.7777777777777778,
              "#fb9f3a"
             ],
             [
              0.8888888888888888,
              "#fdca26"
             ],
             [
              1,
              "#f0f921"
             ]
            ],
            "type": "heatmap"
           }
          ],
          "heatmapgl": [
           {
            "colorbar": {
             "outlinewidth": 0,
             "ticks": ""
            },
            "colorscale": [
             [
              0,
              "#0d0887"
             ],
             [
              0.1111111111111111,
              "#46039f"
             ],
             [
              0.2222222222222222,
              "#7201a8"
             ],
             [
              0.3333333333333333,
              "#9c179e"
             ],
             [
              0.4444444444444444,
              "#bd3786"
             ],
             [
              0.5555555555555556,
              "#d8576b"
             ],
             [
              0.6666666666666666,
              "#ed7953"
             ],
             [
              0.7777777777777778,
              "#fb9f3a"
             ],
             [
              0.8888888888888888,
              "#fdca26"
             ],
             [
              1,
              "#f0f921"
             ]
            ],
            "type": "heatmapgl"
           }
          ],
          "histogram": [
           {
            "marker": {
             "pattern": {
              "fillmode": "overlay",
              "size": 10,
              "solidity": 0.2
             }
            },
            "type": "histogram"
           }
          ],
          "histogram2d": [
           {
            "colorbar": {
             "outlinewidth": 0,
             "ticks": ""
            },
            "colorscale": [
             [
              0,
              "#0d0887"
             ],
             [
              0.1111111111111111,
              "#46039f"
             ],
             [
              0.2222222222222222,
              "#7201a8"
             ],
             [
              0.3333333333333333,
              "#9c179e"
             ],
             [
              0.4444444444444444,
              "#bd3786"
             ],
             [
              0.5555555555555556,
              "#d8576b"
             ],
             [
              0.6666666666666666,
              "#ed7953"
             ],
             [
              0.7777777777777778,
              "#fb9f3a"
             ],
             [
              0.8888888888888888,
              "#fdca26"
             ],
             [
              1,
              "#f0f921"
             ]
            ],
            "type": "histogram2d"
           }
          ],
          "histogram2dcontour": [
           {
            "colorbar": {
             "outlinewidth": 0,
             "ticks": ""
            },
            "colorscale": [
             [
              0,
              "#0d0887"
             ],
             [
              0.1111111111111111,
              "#46039f"
             ],
             [
              0.2222222222222222,
              "#7201a8"
             ],
             [
              0.3333333333333333,
              "#9c179e"
             ],
             [
              0.4444444444444444,
              "#bd3786"
             ],
             [
              0.5555555555555556,
              "#d8576b"
             ],
             [
              0.6666666666666666,
              "#ed7953"
             ],
             [
              0.7777777777777778,
              "#fb9f3a"
             ],
             [
              0.8888888888888888,
              "#fdca26"
             ],
             [
              1,
              "#f0f921"
             ]
            ],
            "type": "histogram2dcontour"
           }
          ],
          "mesh3d": [
           {
            "colorbar": {
             "outlinewidth": 0,
             "ticks": ""
            },
            "type": "mesh3d"
           }
          ],
          "parcoords": [
           {
            "line": {
             "colorbar": {
              "outlinewidth": 0,
              "ticks": ""
             }
            },
            "type": "parcoords"
           }
          ],
          "pie": [
           {
            "automargin": true,
            "type": "pie"
           }
          ],
          "scatter": [
           {
            "fillpattern": {
             "fillmode": "overlay",
             "size": 10,
             "solidity": 0.2
            },
            "type": "scatter"
           }
          ],
          "scatter3d": [
           {
            "line": {
             "colorbar": {
              "outlinewidth": 0,
              "ticks": ""
             }
            },
            "marker": {
             "colorbar": {
              "outlinewidth": 0,
              "ticks": ""
             }
            },
            "type": "scatter3d"
           }
          ],
          "scattercarpet": [
           {
            "marker": {
             "colorbar": {
              "outlinewidth": 0,
              "ticks": ""
             }
            },
            "type": "scattercarpet"
           }
          ],
          "scattergeo": [
           {
            "marker": {
             "colorbar": {
              "outlinewidth": 0,
              "ticks": ""
             }
            },
            "type": "scattergeo"
           }
          ],
          "scattergl": [
           {
            "marker": {
             "colorbar": {
              "outlinewidth": 0,
              "ticks": ""
             }
            },
            "type": "scattergl"
           }
          ],
          "scattermapbox": [
           {
            "marker": {
             "colorbar": {
              "outlinewidth": 0,
              "ticks": ""
             }
            },
            "type": "scattermapbox"
           }
          ],
          "scatterpolar": [
           {
            "marker": {
             "colorbar": {
              "outlinewidth": 0,
              "ticks": ""
             }
            },
            "type": "scatterpolar"
           }
          ],
          "scatterpolargl": [
           {
            "marker": {
             "colorbar": {
              "outlinewidth": 0,
              "ticks": ""
             }
            },
            "type": "scatterpolargl"
           }
          ],
          "scatterternary": [
           {
            "marker": {
             "colorbar": {
              "outlinewidth": 0,
              "ticks": ""
             }
            },
            "type": "scatterternary"
           }
          ],
          "surface": [
           {
            "colorbar": {
             "outlinewidth": 0,
             "ticks": ""
            },
            "colorscale": [
             [
              0,
              "#0d0887"
             ],
             [
              0.1111111111111111,
              "#46039f"
             ],
             [
              0.2222222222222222,
              "#7201a8"
             ],
             [
              0.3333333333333333,
              "#9c179e"
             ],
             [
              0.4444444444444444,
              "#bd3786"
             ],
             [
              0.5555555555555556,
              "#d8576b"
             ],
             [
              0.6666666666666666,
              "#ed7953"
             ],
             [
              0.7777777777777778,
              "#fb9f3a"
             ],
             [
              0.8888888888888888,
              "#fdca26"
             ],
             [
              1,
              "#f0f921"
             ]
            ],
            "type": "surface"
           }
          ],
          "table": [
           {
            "cells": {
             "fill": {
              "color": "#EBF0F8"
             },
             "line": {
              "color": "white"
             }
            },
            "header": {
             "fill": {
              "color": "#C8D4E3"
             },
             "line": {
              "color": "white"
             }
            },
            "type": "table"
           }
          ]
         },
         "layout": {
          "annotationdefaults": {
           "arrowcolor": "#2a3f5f",
           "arrowhead": 0,
           "arrowwidth": 1
          },
          "autotypenumbers": "strict",
          "coloraxis": {
           "colorbar": {
            "outlinewidth": 0,
            "ticks": ""
           }
          },
          "colorscale": {
           "diverging": [
            [
             0,
             "#8e0152"
            ],
            [
             0.1,
             "#c51b7d"
            ],
            [
             0.2,
             "#de77ae"
            ],
            [
             0.3,
             "#f1b6da"
            ],
            [
             0.4,
             "#fde0ef"
            ],
            [
             0.5,
             "#f7f7f7"
            ],
            [
             0.6,
             "#e6f5d0"
            ],
            [
             0.7,
             "#b8e186"
            ],
            [
             0.8,
             "#7fbc41"
            ],
            [
             0.9,
             "#4d9221"
            ],
            [
             1,
             "#276419"
            ]
           ],
           "sequential": [
            [
             0,
             "#0d0887"
            ],
            [
             0.1111111111111111,
             "#46039f"
            ],
            [
             0.2222222222222222,
             "#7201a8"
            ],
            [
             0.3333333333333333,
             "#9c179e"
            ],
            [
             0.4444444444444444,
             "#bd3786"
            ],
            [
             0.5555555555555556,
             "#d8576b"
            ],
            [
             0.6666666666666666,
             "#ed7953"
            ],
            [
             0.7777777777777778,
             "#fb9f3a"
            ],
            [
             0.8888888888888888,
             "#fdca26"
            ],
            [
             1,
             "#f0f921"
            ]
           ],
           "sequentialminus": [
            [
             0,
             "#0d0887"
            ],
            [
             0.1111111111111111,
             "#46039f"
            ],
            [
             0.2222222222222222,
             "#7201a8"
            ],
            [
             0.3333333333333333,
             "#9c179e"
            ],
            [
             0.4444444444444444,
             "#bd3786"
            ],
            [
             0.5555555555555556,
             "#d8576b"
            ],
            [
             0.6666666666666666,
             "#ed7953"
            ],
            [
             0.7777777777777778,
             "#fb9f3a"
            ],
            [
             0.8888888888888888,
             "#fdca26"
            ],
            [
             1,
             "#f0f921"
            ]
           ]
          },
          "colorway": [
           "#636efa",
           "#EF553B",
           "#00cc96",
           "#ab63fa",
           "#FFA15A",
           "#19d3f3",
           "#FF6692",
           "#B6E880",
           "#FF97FF",
           "#FECB52"
          ],
          "font": {
           "color": "#2a3f5f"
          },
          "geo": {
           "bgcolor": "white",
           "lakecolor": "white",
           "landcolor": "#E5ECF6",
           "showlakes": true,
           "showland": true,
           "subunitcolor": "white"
          },
          "hoverlabel": {
           "align": "left"
          },
          "hovermode": "closest",
          "mapbox": {
           "style": "light"
          },
          "paper_bgcolor": "white",
          "plot_bgcolor": "#E5ECF6",
          "polar": {
           "angularaxis": {
            "gridcolor": "white",
            "linecolor": "white",
            "ticks": ""
           },
           "bgcolor": "#E5ECF6",
           "radialaxis": {
            "gridcolor": "white",
            "linecolor": "white",
            "ticks": ""
           }
          },
          "scene": {
           "xaxis": {
            "backgroundcolor": "#E5ECF6",
            "gridcolor": "white",
            "gridwidth": 2,
            "linecolor": "white",
            "showbackground": true,
            "ticks": "",
            "zerolinecolor": "white"
           },
           "yaxis": {
            "backgroundcolor": "#E5ECF6",
            "gridcolor": "white",
            "gridwidth": 2,
            "linecolor": "white",
            "showbackground": true,
            "ticks": "",
            "zerolinecolor": "white"
           },
           "zaxis": {
            "backgroundcolor": "#E5ECF6",
            "gridcolor": "white",
            "gridwidth": 2,
            "linecolor": "white",
            "showbackground": true,
            "ticks": "",
            "zerolinecolor": "white"
           }
          },
          "shapedefaults": {
           "line": {
            "color": "#2a3f5f"
           }
          },
          "ternary": {
           "aaxis": {
            "gridcolor": "white",
            "linecolor": "white",
            "ticks": ""
           },
           "baxis": {
            "gridcolor": "white",
            "linecolor": "white",
            "ticks": ""
           },
           "bgcolor": "#E5ECF6",
           "caxis": {
            "gridcolor": "white",
            "linecolor": "white",
            "ticks": ""
           }
          },
          "title": {
           "x": 0.05
          },
          "xaxis": {
           "automargin": true,
           "gridcolor": "white",
           "linecolor": "white",
           "ticks": "",
           "title": {
            "standoff": 15
           },
           "zerolinecolor": "white",
           "zerolinewidth": 2
          },
          "yaxis": {
           "automargin": true,
           "gridcolor": "white",
           "linecolor": "white",
           "ticks": "",
           "title": {
            "standoff": 15
           },
           "zerolinecolor": "white",
           "zerolinewidth": 2
          }
         }
        },
        "title": {
         "text": "Distribuição de Gênero dos Respondentes"
        }
       }
      }
     },
     "metadata": {},
     "output_type": "display_data"
    }
   ],
   "source": [
    "#PERGUNTA: Qual é a distribuição de gênero dos respondentes?\n",
    "\n",
    "gender_counts = df['Genero'].value_counts().reset_index()\n",
    "gender_counts.columns = ['Genero', 'Contagem']\n",
    "\n",
    "fig = px.pie(gender_counts, names='Genero', values='Contagem', \n",
    "             title='Distribuição de Gênero dos Respondentes')\n",
    "\n",
    "\n",
    "fig.show()"
   ]
  },
  {
   "cell_type": "code",
   "execution_count": 5,
   "metadata": {},
   "outputs": [
    {
     "data": {
      "application/vnd.plotly.v1+json": {
       "config": {
        "plotlyServerURL": "https://plot.ly"
       },
       "data": [
        {
         "alignmentgroup": "True",
         "hovertemplate": "Contagem=%{x}<br>Quanto tempo de experiência na área de dados você tem?=%{y}<extra></extra>",
         "legendgroup": "",
         "marker": {
          "color": "#636efa",
          "pattern": {
           "shape": ""
          }
         },
         "name": "",
         "offsetgroup": "",
         "orientation": "h",
         "showlegend": false,
         "textposition": "auto",
         "type": "bar",
         "x": [
          980,
          711,
          596,
          522,
          403,
          294,
          188
         ],
         "xaxis": "x",
         "y": [
          "de 1 a 2 anos",
          "de 3 a 4 anos",
          "Menos de 1 ano",
          "de 4 a 6 anos",
          "Mais de 10 anos",
          "de 7 a 10 anos",
          "Não tenho experiência na área de dados"
         ],
         "yaxis": "y"
        }
       ],
       "layout": {
        "barmode": "relative",
        "legend": {
         "tracegroupgap": 0
        },
        "template": {
         "data": {
          "bar": [
           {
            "error_x": {
             "color": "#2a3f5f"
            },
            "error_y": {
             "color": "#2a3f5f"
            },
            "marker": {
             "line": {
              "color": "#E5ECF6",
              "width": 0.5
             },
             "pattern": {
              "fillmode": "overlay",
              "size": 10,
              "solidity": 0.2
             }
            },
            "type": "bar"
           }
          ],
          "barpolar": [
           {
            "marker": {
             "line": {
              "color": "#E5ECF6",
              "width": 0.5
             },
             "pattern": {
              "fillmode": "overlay",
              "size": 10,
              "solidity": 0.2
             }
            },
            "type": "barpolar"
           }
          ],
          "carpet": [
           {
            "aaxis": {
             "endlinecolor": "#2a3f5f",
             "gridcolor": "white",
             "linecolor": "white",
             "minorgridcolor": "white",
             "startlinecolor": "#2a3f5f"
            },
            "baxis": {
             "endlinecolor": "#2a3f5f",
             "gridcolor": "white",
             "linecolor": "white",
             "minorgridcolor": "white",
             "startlinecolor": "#2a3f5f"
            },
            "type": "carpet"
           }
          ],
          "choropleth": [
           {
            "colorbar": {
             "outlinewidth": 0,
             "ticks": ""
            },
            "type": "choropleth"
           }
          ],
          "contour": [
           {
            "colorbar": {
             "outlinewidth": 0,
             "ticks": ""
            },
            "colorscale": [
             [
              0,
              "#0d0887"
             ],
             [
              0.1111111111111111,
              "#46039f"
             ],
             [
              0.2222222222222222,
              "#7201a8"
             ],
             [
              0.3333333333333333,
              "#9c179e"
             ],
             [
              0.4444444444444444,
              "#bd3786"
             ],
             [
              0.5555555555555556,
              "#d8576b"
             ],
             [
              0.6666666666666666,
              "#ed7953"
             ],
             [
              0.7777777777777778,
              "#fb9f3a"
             ],
             [
              0.8888888888888888,
              "#fdca26"
             ],
             [
              1,
              "#f0f921"
             ]
            ],
            "type": "contour"
           }
          ],
          "contourcarpet": [
           {
            "colorbar": {
             "outlinewidth": 0,
             "ticks": ""
            },
            "type": "contourcarpet"
           }
          ],
          "heatmap": [
           {
            "colorbar": {
             "outlinewidth": 0,
             "ticks": ""
            },
            "colorscale": [
             [
              0,
              "#0d0887"
             ],
             [
              0.1111111111111111,
              "#46039f"
             ],
             [
              0.2222222222222222,
              "#7201a8"
             ],
             [
              0.3333333333333333,
              "#9c179e"
             ],
             [
              0.4444444444444444,
              "#bd3786"
             ],
             [
              0.5555555555555556,
              "#d8576b"
             ],
             [
              0.6666666666666666,
              "#ed7953"
             ],
             [
              0.7777777777777778,
              "#fb9f3a"
             ],
             [
              0.8888888888888888,
              "#fdca26"
             ],
             [
              1,
              "#f0f921"
             ]
            ],
            "type": "heatmap"
           }
          ],
          "heatmapgl": [
           {
            "colorbar": {
             "outlinewidth": 0,
             "ticks": ""
            },
            "colorscale": [
             [
              0,
              "#0d0887"
             ],
             [
              0.1111111111111111,
              "#46039f"
             ],
             [
              0.2222222222222222,
              "#7201a8"
             ],
             [
              0.3333333333333333,
              "#9c179e"
             ],
             [
              0.4444444444444444,
              "#bd3786"
             ],
             [
              0.5555555555555556,
              "#d8576b"
             ],
             [
              0.6666666666666666,
              "#ed7953"
             ],
             [
              0.7777777777777778,
              "#fb9f3a"
             ],
             [
              0.8888888888888888,
              "#fdca26"
             ],
             [
              1,
              "#f0f921"
             ]
            ],
            "type": "heatmapgl"
           }
          ],
          "histogram": [
           {
            "marker": {
             "pattern": {
              "fillmode": "overlay",
              "size": 10,
              "solidity": 0.2
             }
            },
            "type": "histogram"
           }
          ],
          "histogram2d": [
           {
            "colorbar": {
             "outlinewidth": 0,
             "ticks": ""
            },
            "colorscale": [
             [
              0,
              "#0d0887"
             ],
             [
              0.1111111111111111,
              "#46039f"
             ],
             [
              0.2222222222222222,
              "#7201a8"
             ],
             [
              0.3333333333333333,
              "#9c179e"
             ],
             [
              0.4444444444444444,
              "#bd3786"
             ],
             [
              0.5555555555555556,
              "#d8576b"
             ],
             [
              0.6666666666666666,
              "#ed7953"
             ],
             [
              0.7777777777777778,
              "#fb9f3a"
             ],
             [
              0.8888888888888888,
              "#fdca26"
             ],
             [
              1,
              "#f0f921"
             ]
            ],
            "type": "histogram2d"
           }
          ],
          "histogram2dcontour": [
           {
            "colorbar": {
             "outlinewidth": 0,
             "ticks": ""
            },
            "colorscale": [
             [
              0,
              "#0d0887"
             ],
             [
              0.1111111111111111,
              "#46039f"
             ],
             [
              0.2222222222222222,
              "#7201a8"
             ],
             [
              0.3333333333333333,
              "#9c179e"
             ],
             [
              0.4444444444444444,
              "#bd3786"
             ],
             [
              0.5555555555555556,
              "#d8576b"
             ],
             [
              0.6666666666666666,
              "#ed7953"
             ],
             [
              0.7777777777777778,
              "#fb9f3a"
             ],
             [
              0.8888888888888888,
              "#fdca26"
             ],
             [
              1,
              "#f0f921"
             ]
            ],
            "type": "histogram2dcontour"
           }
          ],
          "mesh3d": [
           {
            "colorbar": {
             "outlinewidth": 0,
             "ticks": ""
            },
            "type": "mesh3d"
           }
          ],
          "parcoords": [
           {
            "line": {
             "colorbar": {
              "outlinewidth": 0,
              "ticks": ""
             }
            },
            "type": "parcoords"
           }
          ],
          "pie": [
           {
            "automargin": true,
            "type": "pie"
           }
          ],
          "scatter": [
           {
            "fillpattern": {
             "fillmode": "overlay",
             "size": 10,
             "solidity": 0.2
            },
            "type": "scatter"
           }
          ],
          "scatter3d": [
           {
            "line": {
             "colorbar": {
              "outlinewidth": 0,
              "ticks": ""
             }
            },
            "marker": {
             "colorbar": {
              "outlinewidth": 0,
              "ticks": ""
             }
            },
            "type": "scatter3d"
           }
          ],
          "scattercarpet": [
           {
            "marker": {
             "colorbar": {
              "outlinewidth": 0,
              "ticks": ""
             }
            },
            "type": "scattercarpet"
           }
          ],
          "scattergeo": [
           {
            "marker": {
             "colorbar": {
              "outlinewidth": 0,
              "ticks": ""
             }
            },
            "type": "scattergeo"
           }
          ],
          "scattergl": [
           {
            "marker": {
             "colorbar": {
              "outlinewidth": 0,
              "ticks": ""
             }
            },
            "type": "scattergl"
           }
          ],
          "scattermapbox": [
           {
            "marker": {
             "colorbar": {
              "outlinewidth": 0,
              "ticks": ""
             }
            },
            "type": "scattermapbox"
           }
          ],
          "scatterpolar": [
           {
            "marker": {
             "colorbar": {
              "outlinewidth": 0,
              "ticks": ""
             }
            },
            "type": "scatterpolar"
           }
          ],
          "scatterpolargl": [
           {
            "marker": {
             "colorbar": {
              "outlinewidth": 0,
              "ticks": ""
             }
            },
            "type": "scatterpolargl"
           }
          ],
          "scatterternary": [
           {
            "marker": {
             "colorbar": {
              "outlinewidth": 0,
              "ticks": ""
             }
            },
            "type": "scatterternary"
           }
          ],
          "surface": [
           {
            "colorbar": {
             "outlinewidth": 0,
             "ticks": ""
            },
            "colorscale": [
             [
              0,
              "#0d0887"
             ],
             [
              0.1111111111111111,
              "#46039f"
             ],
             [
              0.2222222222222222,
              "#7201a8"
             ],
             [
              0.3333333333333333,
              "#9c179e"
             ],
             [
              0.4444444444444444,
              "#bd3786"
             ],
             [
              0.5555555555555556,
              "#d8576b"
             ],
             [
              0.6666666666666666,
              "#ed7953"
             ],
             [
              0.7777777777777778,
              "#fb9f3a"
             ],
             [
              0.8888888888888888,
              "#fdca26"
             ],
             [
              1,
              "#f0f921"
             ]
            ],
            "type": "surface"
           }
          ],
          "table": [
           {
            "cells": {
             "fill": {
              "color": "#EBF0F8"
             },
             "line": {
              "color": "white"
             }
            },
            "header": {
             "fill": {
              "color": "#C8D4E3"
             },
             "line": {
              "color": "white"
             }
            },
            "type": "table"
           }
          ]
         },
         "layout": {
          "annotationdefaults": {
           "arrowcolor": "#2a3f5f",
           "arrowhead": 0,
           "arrowwidth": 1
          },
          "autotypenumbers": "strict",
          "coloraxis": {
           "colorbar": {
            "outlinewidth": 0,
            "ticks": ""
           }
          },
          "colorscale": {
           "diverging": [
            [
             0,
             "#8e0152"
            ],
            [
             0.1,
             "#c51b7d"
            ],
            [
             0.2,
             "#de77ae"
            ],
            [
             0.3,
             "#f1b6da"
            ],
            [
             0.4,
             "#fde0ef"
            ],
            [
             0.5,
             "#f7f7f7"
            ],
            [
             0.6,
             "#e6f5d0"
            ],
            [
             0.7,
             "#b8e186"
            ],
            [
             0.8,
             "#7fbc41"
            ],
            [
             0.9,
             "#4d9221"
            ],
            [
             1,
             "#276419"
            ]
           ],
           "sequential": [
            [
             0,
             "#0d0887"
            ],
            [
             0.1111111111111111,
             "#46039f"
            ],
            [
             0.2222222222222222,
             "#7201a8"
            ],
            [
             0.3333333333333333,
             "#9c179e"
            ],
            [
             0.4444444444444444,
             "#bd3786"
            ],
            [
             0.5555555555555556,
             "#d8576b"
            ],
            [
             0.6666666666666666,
             "#ed7953"
            ],
            [
             0.7777777777777778,
             "#fb9f3a"
            ],
            [
             0.8888888888888888,
             "#fdca26"
            ],
            [
             1,
             "#f0f921"
            ]
           ],
           "sequentialminus": [
            [
             0,
             "#0d0887"
            ],
            [
             0.1111111111111111,
             "#46039f"
            ],
            [
             0.2222222222222222,
             "#7201a8"
            ],
            [
             0.3333333333333333,
             "#9c179e"
            ],
            [
             0.4444444444444444,
             "#bd3786"
            ],
            [
             0.5555555555555556,
             "#d8576b"
            ],
            [
             0.6666666666666666,
             "#ed7953"
            ],
            [
             0.7777777777777778,
             "#fb9f3a"
            ],
            [
             0.8888888888888888,
             "#fdca26"
            ],
            [
             1,
             "#f0f921"
            ]
           ]
          },
          "colorway": [
           "#636efa",
           "#EF553B",
           "#00cc96",
           "#ab63fa",
           "#FFA15A",
           "#19d3f3",
           "#FF6692",
           "#B6E880",
           "#FF97FF",
           "#FECB52"
          ],
          "font": {
           "color": "#2a3f5f"
          },
          "geo": {
           "bgcolor": "white",
           "lakecolor": "white",
           "landcolor": "#E5ECF6",
           "showlakes": true,
           "showland": true,
           "subunitcolor": "white"
          },
          "hoverlabel": {
           "align": "left"
          },
          "hovermode": "closest",
          "mapbox": {
           "style": "light"
          },
          "paper_bgcolor": "white",
          "plot_bgcolor": "#E5ECF6",
          "polar": {
           "angularaxis": {
            "gridcolor": "white",
            "linecolor": "white",
            "ticks": ""
           },
           "bgcolor": "#E5ECF6",
           "radialaxis": {
            "gridcolor": "white",
            "linecolor": "white",
            "ticks": ""
           }
          },
          "scene": {
           "xaxis": {
            "backgroundcolor": "#E5ECF6",
            "gridcolor": "white",
            "gridwidth": 2,
            "linecolor": "white",
            "showbackground": true,
            "ticks": "",
            "zerolinecolor": "white"
           },
           "yaxis": {
            "backgroundcolor": "#E5ECF6",
            "gridcolor": "white",
            "gridwidth": 2,
            "linecolor": "white",
            "showbackground": true,
            "ticks": "",
            "zerolinecolor": "white"
           },
           "zaxis": {
            "backgroundcolor": "#E5ECF6",
            "gridcolor": "white",
            "gridwidth": 2,
            "linecolor": "white",
            "showbackground": true,
            "ticks": "",
            "zerolinecolor": "white"
           }
          },
          "shapedefaults": {
           "line": {
            "color": "#2a3f5f"
           }
          },
          "ternary": {
           "aaxis": {
            "gridcolor": "white",
            "linecolor": "white",
            "ticks": ""
           },
           "baxis": {
            "gridcolor": "white",
            "linecolor": "white",
            "ticks": ""
           },
           "bgcolor": "#E5ECF6",
           "caxis": {
            "gridcolor": "white",
            "linecolor": "white",
            "ticks": ""
           }
          },
          "title": {
           "x": 0.05
          },
          "xaxis": {
           "automargin": true,
           "gridcolor": "white",
           "linecolor": "white",
           "ticks": "",
           "title": {
            "standoff": 15
           },
           "zerolinecolor": "white",
           "zerolinewidth": 2
          },
          "yaxis": {
           "automargin": true,
           "gridcolor": "white",
           "linecolor": "white",
           "ticks": "",
           "title": {
            "standoff": 15
           },
           "zerolinecolor": "white",
           "zerolinewidth": 2
          }
         }
        },
        "title": {
         "text": "Distribuição de Anos de Experiência dos Respondentes"
        },
        "xaxis": {
         "anchor": "y",
         "domain": [
          0,
          1
         ],
         "title": {
          "text": "Contagem"
         }
        },
        "yaxis": {
         "anchor": "x",
         "categoryarray": [
          "Não tenho experiência na área de dados",
          "de 7 a 10 anos",
          "Mais de 10 anos",
          "de 4 a 6 anos",
          "Menos de 1 ano",
          "de 3 a 4 anos",
          "de 1 a 2 anos"
         ],
         "categoryorder": "array",
         "domain": [
          0,
          1
         ],
         "title": {
          "text": "Quanto tempo de experiência na área de dados você tem?"
         }
        }
       }
      }
     },
     "metadata": {},
     "output_type": "display_data"
    }
   ],
   "source": [
    "# PERGUNTA: Qual é a distruibuição de anos de experiência dos respondentes?\n",
    "\n",
    "experience_counts = df['Quanto tempo de experiência na área de dados você tem?'].value_counts().reset_index()\n",
    "experience_counts.columns = ['Quanto tempo de experiência na área de dados você tem?', 'Contagem']\n",
    "experience_counts = experience_counts.sort_values(by='Contagem', ascending=False)\n",
    "\n",
    "\n",
    "fig = px.bar(experience_counts, x='Contagem', y='Quanto tempo de experiência na área de dados você tem?',\n",
    "             orientation='h', title='Distribuição de Anos de Experiência dos Respondentes',\n",
    "             category_orders={\"Quanto tempo de experiência na área de dados você tem?\": experience_counts['Quanto tempo de experiência na área de dados você tem?']})\n",
    "\n",
    "fig.show()\n"
   ]
  },
  {
   "cell_type": "code",
   "execution_count": 6,
   "metadata": {},
   "outputs": [
    {
     "data": {
      "application/vnd.plotly.v1+json": {
       "config": {
        "plotlyServerURL": "https://plot.ly"
       },
       "data": [
        {
         "alignmentgroup": "True",
         "hovertemplate": "Regiao onde mora=%{x}<br>Contagem=%{y}<extra></extra>",
         "legendgroup": "",
         "marker": {
          "color": "#636efa",
          "pattern": {
           "shape": ""
          }
         },
         "name": "",
         "offsetgroup": "",
         "orientation": "v",
         "showlegend": false,
         "textposition": "auto",
         "type": "bar",
         "x": [
          "Sudeste",
          "Sul",
          "Nordeste",
          "Centro-oeste",
          "Norte"
         ],
         "xaxis": "x",
         "y": [
          2642,
          669,
          562,
          222,
          76
         ],
         "yaxis": "y"
        }
       ],
       "layout": {
        "barmode": "relative",
        "legend": {
         "tracegroupgap": 0
        },
        "template": {
         "data": {
          "bar": [
           {
            "error_x": {
             "color": "#2a3f5f"
            },
            "error_y": {
             "color": "#2a3f5f"
            },
            "marker": {
             "line": {
              "color": "#E5ECF6",
              "width": 0.5
             },
             "pattern": {
              "fillmode": "overlay",
              "size": 10,
              "solidity": 0.2
             }
            },
            "type": "bar"
           }
          ],
          "barpolar": [
           {
            "marker": {
             "line": {
              "color": "#E5ECF6",
              "width": 0.5
             },
             "pattern": {
              "fillmode": "overlay",
              "size": 10,
              "solidity": 0.2
             }
            },
            "type": "barpolar"
           }
          ],
          "carpet": [
           {
            "aaxis": {
             "endlinecolor": "#2a3f5f",
             "gridcolor": "white",
             "linecolor": "white",
             "minorgridcolor": "white",
             "startlinecolor": "#2a3f5f"
            },
            "baxis": {
             "endlinecolor": "#2a3f5f",
             "gridcolor": "white",
             "linecolor": "white",
             "minorgridcolor": "white",
             "startlinecolor": "#2a3f5f"
            },
            "type": "carpet"
           }
          ],
          "choropleth": [
           {
            "colorbar": {
             "outlinewidth": 0,
             "ticks": ""
            },
            "type": "choropleth"
           }
          ],
          "contour": [
           {
            "colorbar": {
             "outlinewidth": 0,
             "ticks": ""
            },
            "colorscale": [
             [
              0,
              "#0d0887"
             ],
             [
              0.1111111111111111,
              "#46039f"
             ],
             [
              0.2222222222222222,
              "#7201a8"
             ],
             [
              0.3333333333333333,
              "#9c179e"
             ],
             [
              0.4444444444444444,
              "#bd3786"
             ],
             [
              0.5555555555555556,
              "#d8576b"
             ],
             [
              0.6666666666666666,
              "#ed7953"
             ],
             [
              0.7777777777777778,
              "#fb9f3a"
             ],
             [
              0.8888888888888888,
              "#fdca26"
             ],
             [
              1,
              "#f0f921"
             ]
            ],
            "type": "contour"
           }
          ],
          "contourcarpet": [
           {
            "colorbar": {
             "outlinewidth": 0,
             "ticks": ""
            },
            "type": "contourcarpet"
           }
          ],
          "heatmap": [
           {
            "colorbar": {
             "outlinewidth": 0,
             "ticks": ""
            },
            "colorscale": [
             [
              0,
              "#0d0887"
             ],
             [
              0.1111111111111111,
              "#46039f"
             ],
             [
              0.2222222222222222,
              "#7201a8"
             ],
             [
              0.3333333333333333,
              "#9c179e"
             ],
             [
              0.4444444444444444,
              "#bd3786"
             ],
             [
              0.5555555555555556,
              "#d8576b"
             ],
             [
              0.6666666666666666,
              "#ed7953"
             ],
             [
              0.7777777777777778,
              "#fb9f3a"
             ],
             [
              0.8888888888888888,
              "#fdca26"
             ],
             [
              1,
              "#f0f921"
             ]
            ],
            "type": "heatmap"
           }
          ],
          "heatmapgl": [
           {
            "colorbar": {
             "outlinewidth": 0,
             "ticks": ""
            },
            "colorscale": [
             [
              0,
              "#0d0887"
             ],
             [
              0.1111111111111111,
              "#46039f"
             ],
             [
              0.2222222222222222,
              "#7201a8"
             ],
             [
              0.3333333333333333,
              "#9c179e"
             ],
             [
              0.4444444444444444,
              "#bd3786"
             ],
             [
              0.5555555555555556,
              "#d8576b"
             ],
             [
              0.6666666666666666,
              "#ed7953"
             ],
             [
              0.7777777777777778,
              "#fb9f3a"
             ],
             [
              0.8888888888888888,
              "#fdca26"
             ],
             [
              1,
              "#f0f921"
             ]
            ],
            "type": "heatmapgl"
           }
          ],
          "histogram": [
           {
            "marker": {
             "pattern": {
              "fillmode": "overlay",
              "size": 10,
              "solidity": 0.2
             }
            },
            "type": "histogram"
           }
          ],
          "histogram2d": [
           {
            "colorbar": {
             "outlinewidth": 0,
             "ticks": ""
            },
            "colorscale": [
             [
              0,
              "#0d0887"
             ],
             [
              0.1111111111111111,
              "#46039f"
             ],
             [
              0.2222222222222222,
              "#7201a8"
             ],
             [
              0.3333333333333333,
              "#9c179e"
             ],
             [
              0.4444444444444444,
              "#bd3786"
             ],
             [
              0.5555555555555556,
              "#d8576b"
             ],
             [
              0.6666666666666666,
              "#ed7953"
             ],
             [
              0.7777777777777778,
              "#fb9f3a"
             ],
             [
              0.8888888888888888,
              "#fdca26"
             ],
             [
              1,
              "#f0f921"
             ]
            ],
            "type": "histogram2d"
           }
          ],
          "histogram2dcontour": [
           {
            "colorbar": {
             "outlinewidth": 0,
             "ticks": ""
            },
            "colorscale": [
             [
              0,
              "#0d0887"
             ],
             [
              0.1111111111111111,
              "#46039f"
             ],
             [
              0.2222222222222222,
              "#7201a8"
             ],
             [
              0.3333333333333333,
              "#9c179e"
             ],
             [
              0.4444444444444444,
              "#bd3786"
             ],
             [
              0.5555555555555556,
              "#d8576b"
             ],
             [
              0.6666666666666666,
              "#ed7953"
             ],
             [
              0.7777777777777778,
              "#fb9f3a"
             ],
             [
              0.8888888888888888,
              "#fdca26"
             ],
             [
              1,
              "#f0f921"
             ]
            ],
            "type": "histogram2dcontour"
           }
          ],
          "mesh3d": [
           {
            "colorbar": {
             "outlinewidth": 0,
             "ticks": ""
            },
            "type": "mesh3d"
           }
          ],
          "parcoords": [
           {
            "line": {
             "colorbar": {
              "outlinewidth": 0,
              "ticks": ""
             }
            },
            "type": "parcoords"
           }
          ],
          "pie": [
           {
            "automargin": true,
            "type": "pie"
           }
          ],
          "scatter": [
           {
            "fillpattern": {
             "fillmode": "overlay",
             "size": 10,
             "solidity": 0.2
            },
            "type": "scatter"
           }
          ],
          "scatter3d": [
           {
            "line": {
             "colorbar": {
              "outlinewidth": 0,
              "ticks": ""
             }
            },
            "marker": {
             "colorbar": {
              "outlinewidth": 0,
              "ticks": ""
             }
            },
            "type": "scatter3d"
           }
          ],
          "scattercarpet": [
           {
            "marker": {
             "colorbar": {
              "outlinewidth": 0,
              "ticks": ""
             }
            },
            "type": "scattercarpet"
           }
          ],
          "scattergeo": [
           {
            "marker": {
             "colorbar": {
              "outlinewidth": 0,
              "ticks": ""
             }
            },
            "type": "scattergeo"
           }
          ],
          "scattergl": [
           {
            "marker": {
             "colorbar": {
              "outlinewidth": 0,
              "ticks": ""
             }
            },
            "type": "scattergl"
           }
          ],
          "scattermapbox": [
           {
            "marker": {
             "colorbar": {
              "outlinewidth": 0,
              "ticks": ""
             }
            },
            "type": "scattermapbox"
           }
          ],
          "scatterpolar": [
           {
            "marker": {
             "colorbar": {
              "outlinewidth": 0,
              "ticks": ""
             }
            },
            "type": "scatterpolar"
           }
          ],
          "scatterpolargl": [
           {
            "marker": {
             "colorbar": {
              "outlinewidth": 0,
              "ticks": ""
             }
            },
            "type": "scatterpolargl"
           }
          ],
          "scatterternary": [
           {
            "marker": {
             "colorbar": {
              "outlinewidth": 0,
              "ticks": ""
             }
            },
            "type": "scatterternary"
           }
          ],
          "surface": [
           {
            "colorbar": {
             "outlinewidth": 0,
             "ticks": ""
            },
            "colorscale": [
             [
              0,
              "#0d0887"
             ],
             [
              0.1111111111111111,
              "#46039f"
             ],
             [
              0.2222222222222222,
              "#7201a8"
             ],
             [
              0.3333333333333333,
              "#9c179e"
             ],
             [
              0.4444444444444444,
              "#bd3786"
             ],
             [
              0.5555555555555556,
              "#d8576b"
             ],
             [
              0.6666666666666666,
              "#ed7953"
             ],
             [
              0.7777777777777778,
              "#fb9f3a"
             ],
             [
              0.8888888888888888,
              "#fdca26"
             ],
             [
              1,
              "#f0f921"
             ]
            ],
            "type": "surface"
           }
          ],
          "table": [
           {
            "cells": {
             "fill": {
              "color": "#EBF0F8"
             },
             "line": {
              "color": "white"
             }
            },
            "header": {
             "fill": {
              "color": "#C8D4E3"
             },
             "line": {
              "color": "white"
             }
            },
            "type": "table"
           }
          ]
         },
         "layout": {
          "annotationdefaults": {
           "arrowcolor": "#2a3f5f",
           "arrowhead": 0,
           "arrowwidth": 1
          },
          "autotypenumbers": "strict",
          "coloraxis": {
           "colorbar": {
            "outlinewidth": 0,
            "ticks": ""
           }
          },
          "colorscale": {
           "diverging": [
            [
             0,
             "#8e0152"
            ],
            [
             0.1,
             "#c51b7d"
            ],
            [
             0.2,
             "#de77ae"
            ],
            [
             0.3,
             "#f1b6da"
            ],
            [
             0.4,
             "#fde0ef"
            ],
            [
             0.5,
             "#f7f7f7"
            ],
            [
             0.6,
             "#e6f5d0"
            ],
            [
             0.7,
             "#b8e186"
            ],
            [
             0.8,
             "#7fbc41"
            ],
            [
             0.9,
             "#4d9221"
            ],
            [
             1,
             "#276419"
            ]
           ],
           "sequential": [
            [
             0,
             "#0d0887"
            ],
            [
             0.1111111111111111,
             "#46039f"
            ],
            [
             0.2222222222222222,
             "#7201a8"
            ],
            [
             0.3333333333333333,
             "#9c179e"
            ],
            [
             0.4444444444444444,
             "#bd3786"
            ],
            [
             0.5555555555555556,
             "#d8576b"
            ],
            [
             0.6666666666666666,
             "#ed7953"
            ],
            [
             0.7777777777777778,
             "#fb9f3a"
            ],
            [
             0.8888888888888888,
             "#fdca26"
            ],
            [
             1,
             "#f0f921"
            ]
           ],
           "sequentialminus": [
            [
             0,
             "#0d0887"
            ],
            [
             0.1111111111111111,
             "#46039f"
            ],
            [
             0.2222222222222222,
             "#7201a8"
            ],
            [
             0.3333333333333333,
             "#9c179e"
            ],
            [
             0.4444444444444444,
             "#bd3786"
            ],
            [
             0.5555555555555556,
             "#d8576b"
            ],
            [
             0.6666666666666666,
             "#ed7953"
            ],
            [
             0.7777777777777778,
             "#fb9f3a"
            ],
            [
             0.8888888888888888,
             "#fdca26"
            ],
            [
             1,
             "#f0f921"
            ]
           ]
          },
          "colorway": [
           "#636efa",
           "#EF553B",
           "#00cc96",
           "#ab63fa",
           "#FFA15A",
           "#19d3f3",
           "#FF6692",
           "#B6E880",
           "#FF97FF",
           "#FECB52"
          ],
          "font": {
           "color": "#2a3f5f"
          },
          "geo": {
           "bgcolor": "white",
           "lakecolor": "white",
           "landcolor": "#E5ECF6",
           "showlakes": true,
           "showland": true,
           "subunitcolor": "white"
          },
          "hoverlabel": {
           "align": "left"
          },
          "hovermode": "closest",
          "mapbox": {
           "style": "light"
          },
          "paper_bgcolor": "white",
          "plot_bgcolor": "#E5ECF6",
          "polar": {
           "angularaxis": {
            "gridcolor": "white",
            "linecolor": "white",
            "ticks": ""
           },
           "bgcolor": "#E5ECF6",
           "radialaxis": {
            "gridcolor": "white",
            "linecolor": "white",
            "ticks": ""
           }
          },
          "scene": {
           "xaxis": {
            "backgroundcolor": "#E5ECF6",
            "gridcolor": "white",
            "gridwidth": 2,
            "linecolor": "white",
            "showbackground": true,
            "ticks": "",
            "zerolinecolor": "white"
           },
           "yaxis": {
            "backgroundcolor": "#E5ECF6",
            "gridcolor": "white",
            "gridwidth": 2,
            "linecolor": "white",
            "showbackground": true,
            "ticks": "",
            "zerolinecolor": "white"
           },
           "zaxis": {
            "backgroundcolor": "#E5ECF6",
            "gridcolor": "white",
            "gridwidth": 2,
            "linecolor": "white",
            "showbackground": true,
            "ticks": "",
            "zerolinecolor": "white"
           }
          },
          "shapedefaults": {
           "line": {
            "color": "#2a3f5f"
           }
          },
          "ternary": {
           "aaxis": {
            "gridcolor": "white",
            "linecolor": "white",
            "ticks": ""
           },
           "baxis": {
            "gridcolor": "white",
            "linecolor": "white",
            "ticks": ""
           },
           "bgcolor": "#E5ECF6",
           "caxis": {
            "gridcolor": "white",
            "linecolor": "white",
            "ticks": ""
           }
          },
          "title": {
           "x": 0.05
          },
          "xaxis": {
           "automargin": true,
           "gridcolor": "white",
           "linecolor": "white",
           "ticks": "",
           "title": {
            "standoff": 15
           },
           "zerolinecolor": "white",
           "zerolinewidth": 2
          },
          "yaxis": {
           "automargin": true,
           "gridcolor": "white",
           "linecolor": "white",
           "ticks": "",
           "title": {
            "standoff": 15
           },
           "zerolinecolor": "white",
           "zerolinewidth": 2
          }
         }
        },
        "title": {
         "text": "Distribuição Geográfica dos Respondentes por Região"
        },
        "xaxis": {
         "anchor": "y",
         "domain": [
          0,
          1
         ],
         "title": {
          "text": "Regiao onde mora"
         }
        },
        "yaxis": {
         "anchor": "x",
         "domain": [
          0,
          1
         ],
         "title": {
          "text": "Contagem"
         }
        }
       }
      }
     },
     "metadata": {},
     "output_type": "display_data"
    }
   ],
   "source": [
    "#Pergunta: Qual é a distribuição geográfica dos respondentes?\n",
    "\n",
    "region_counts = df['Regiao onde mora'].value_counts().reset_index()\n",
    "region_counts.columns = ['Regiao onde mora', 'Contagem']\n",
    "\n",
    "\n",
    "fig = px.bar(region_counts, x='Regiao onde mora', y='Contagem',\n",
    "             title='Distribuição Geográfica dos Respondentes por Região')\n",
    "\n",
    "fig.show()\n"
   ]
  },
  {
   "cell_type": "code",
   "execution_count": 7,
   "metadata": {},
   "outputs": [
    {
     "data": {
      "application/vnd.plotly.v1+json": {
       "config": {
        "plotlyServerURL": "https://plot.ly"
       },
       "data": [
        {
         "alignmentgroup": "True",
         "hovertemplate": "Contagem=%{x}<br>Cargo Atual=%{y}<extra></extra>",
         "legendgroup": "",
         "marker": {
          "color": "#636efa",
          "pattern": {
           "shape": ""
          }
         },
         "name": "",
         "offsetgroup": "",
         "orientation": "h",
         "showlegend": false,
         "textposition": "auto",
         "type": "bar",
         "x": [
          639,
          556,
          490,
          378,
          281,
          123,
          106,
          72,
          70,
          69,
          51,
          29,
          28,
          23,
          19,
          19,
          16,
          12
         ],
         "xaxis": "x",
         "y": [
          "Analista de Dados/Data Analyst",
          "Cientista de Dados/Data Scientist",
          "Engenheiro de Dados/Arquiteto de Dados/Data Engineer/Data Architect",
          "Analista de BI/BI Analyst",
          "Outra Opção",
          "Analista de Negócios/Business Analyst",
          "Desenvolvedor/ Engenheiro de Software/ Analista de Sistemas",
          "Analista de Suporte/Analista Técnico",
          "Analytics Engineer",
          "Engenheiro de Machine Learning/ML Engineer",
          "Product Manager/ Product Owner (PM/APM/DPM/GPM/PO)",
          "Analista de Inteligência de Mercado/Market Intelligence",
          "Outras Engenharias (não inclui dev)",
          "Professor",
          "Estatístico",
          "Analista de Marketing",
          "Economista",
          "DBA/Administrador de Banco de Dados"
         ],
         "yaxis": "y"
        }
       ],
       "layout": {
        "barmode": "relative",
        "legend": {
         "tracegroupgap": 0
        },
        "template": {
         "data": {
          "bar": [
           {
            "error_x": {
             "color": "#2a3f5f"
            },
            "error_y": {
             "color": "#2a3f5f"
            },
            "marker": {
             "line": {
              "color": "#E5ECF6",
              "width": 0.5
             },
             "pattern": {
              "fillmode": "overlay",
              "size": 10,
              "solidity": 0.2
             }
            },
            "type": "bar"
           }
          ],
          "barpolar": [
           {
            "marker": {
             "line": {
              "color": "#E5ECF6",
              "width": 0.5
             },
             "pattern": {
              "fillmode": "overlay",
              "size": 10,
              "solidity": 0.2
             }
            },
            "type": "barpolar"
           }
          ],
          "carpet": [
           {
            "aaxis": {
             "endlinecolor": "#2a3f5f",
             "gridcolor": "white",
             "linecolor": "white",
             "minorgridcolor": "white",
             "startlinecolor": "#2a3f5f"
            },
            "baxis": {
             "endlinecolor": "#2a3f5f",
             "gridcolor": "white",
             "linecolor": "white",
             "minorgridcolor": "white",
             "startlinecolor": "#2a3f5f"
            },
            "type": "carpet"
           }
          ],
          "choropleth": [
           {
            "colorbar": {
             "outlinewidth": 0,
             "ticks": ""
            },
            "type": "choropleth"
           }
          ],
          "contour": [
           {
            "colorbar": {
             "outlinewidth": 0,
             "ticks": ""
            },
            "colorscale": [
             [
              0,
              "#0d0887"
             ],
             [
              0.1111111111111111,
              "#46039f"
             ],
             [
              0.2222222222222222,
              "#7201a8"
             ],
             [
              0.3333333333333333,
              "#9c179e"
             ],
             [
              0.4444444444444444,
              "#bd3786"
             ],
             [
              0.5555555555555556,
              "#d8576b"
             ],
             [
              0.6666666666666666,
              "#ed7953"
             ],
             [
              0.7777777777777778,
              "#fb9f3a"
             ],
             [
              0.8888888888888888,
              "#fdca26"
             ],
             [
              1,
              "#f0f921"
             ]
            ],
            "type": "contour"
           }
          ],
          "contourcarpet": [
           {
            "colorbar": {
             "outlinewidth": 0,
             "ticks": ""
            },
            "type": "contourcarpet"
           }
          ],
          "heatmap": [
           {
            "colorbar": {
             "outlinewidth": 0,
             "ticks": ""
            },
            "colorscale": [
             [
              0,
              "#0d0887"
             ],
             [
              0.1111111111111111,
              "#46039f"
             ],
             [
              0.2222222222222222,
              "#7201a8"
             ],
             [
              0.3333333333333333,
              "#9c179e"
             ],
             [
              0.4444444444444444,
              "#bd3786"
             ],
             [
              0.5555555555555556,
              "#d8576b"
             ],
             [
              0.6666666666666666,
              "#ed7953"
             ],
             [
              0.7777777777777778,
              "#fb9f3a"
             ],
             [
              0.8888888888888888,
              "#fdca26"
             ],
             [
              1,
              "#f0f921"
             ]
            ],
            "type": "heatmap"
           }
          ],
          "heatmapgl": [
           {
            "colorbar": {
             "outlinewidth": 0,
             "ticks": ""
            },
            "colorscale": [
             [
              0,
              "#0d0887"
             ],
             [
              0.1111111111111111,
              "#46039f"
             ],
             [
              0.2222222222222222,
              "#7201a8"
             ],
             [
              0.3333333333333333,
              "#9c179e"
             ],
             [
              0.4444444444444444,
              "#bd3786"
             ],
             [
              0.5555555555555556,
              "#d8576b"
             ],
             [
              0.6666666666666666,
              "#ed7953"
             ],
             [
              0.7777777777777778,
              "#fb9f3a"
             ],
             [
              0.8888888888888888,
              "#fdca26"
             ],
             [
              1,
              "#f0f921"
             ]
            ],
            "type": "heatmapgl"
           }
          ],
          "histogram": [
           {
            "marker": {
             "pattern": {
              "fillmode": "overlay",
              "size": 10,
              "solidity": 0.2
             }
            },
            "type": "histogram"
           }
          ],
          "histogram2d": [
           {
            "colorbar": {
             "outlinewidth": 0,
             "ticks": ""
            },
            "colorscale": [
             [
              0,
              "#0d0887"
             ],
             [
              0.1111111111111111,
              "#46039f"
             ],
             [
              0.2222222222222222,
              "#7201a8"
             ],
             [
              0.3333333333333333,
              "#9c179e"
             ],
             [
              0.4444444444444444,
              "#bd3786"
             ],
             [
              0.5555555555555556,
              "#d8576b"
             ],
             [
              0.6666666666666666,
              "#ed7953"
             ],
             [
              0.7777777777777778,
              "#fb9f3a"
             ],
             [
              0.8888888888888888,
              "#fdca26"
             ],
             [
              1,
              "#f0f921"
             ]
            ],
            "type": "histogram2d"
           }
          ],
          "histogram2dcontour": [
           {
            "colorbar": {
             "outlinewidth": 0,
             "ticks": ""
            },
            "colorscale": [
             [
              0,
              "#0d0887"
             ],
             [
              0.1111111111111111,
              "#46039f"
             ],
             [
              0.2222222222222222,
              "#7201a8"
             ],
             [
              0.3333333333333333,
              "#9c179e"
             ],
             [
              0.4444444444444444,
              "#bd3786"
             ],
             [
              0.5555555555555556,
              "#d8576b"
             ],
             [
              0.6666666666666666,
              "#ed7953"
             ],
             [
              0.7777777777777778,
              "#fb9f3a"
             ],
             [
              0.8888888888888888,
              "#fdca26"
             ],
             [
              1,
              "#f0f921"
             ]
            ],
            "type": "histogram2dcontour"
           }
          ],
          "mesh3d": [
           {
            "colorbar": {
             "outlinewidth": 0,
             "ticks": ""
            },
            "type": "mesh3d"
           }
          ],
          "parcoords": [
           {
            "line": {
             "colorbar": {
              "outlinewidth": 0,
              "ticks": ""
             }
            },
            "type": "parcoords"
           }
          ],
          "pie": [
           {
            "automargin": true,
            "type": "pie"
           }
          ],
          "scatter": [
           {
            "fillpattern": {
             "fillmode": "overlay",
             "size": 10,
             "solidity": 0.2
            },
            "type": "scatter"
           }
          ],
          "scatter3d": [
           {
            "line": {
             "colorbar": {
              "outlinewidth": 0,
              "ticks": ""
             }
            },
            "marker": {
             "colorbar": {
              "outlinewidth": 0,
              "ticks": ""
             }
            },
            "type": "scatter3d"
           }
          ],
          "scattercarpet": [
           {
            "marker": {
             "colorbar": {
              "outlinewidth": 0,
              "ticks": ""
             }
            },
            "type": "scattercarpet"
           }
          ],
          "scattergeo": [
           {
            "marker": {
             "colorbar": {
              "outlinewidth": 0,
              "ticks": ""
             }
            },
            "type": "scattergeo"
           }
          ],
          "scattergl": [
           {
            "marker": {
             "colorbar": {
              "outlinewidth": 0,
              "ticks": ""
             }
            },
            "type": "scattergl"
           }
          ],
          "scattermapbox": [
           {
            "marker": {
             "colorbar": {
              "outlinewidth": 0,
              "ticks": ""
             }
            },
            "type": "scattermapbox"
           }
          ],
          "scatterpolar": [
           {
            "marker": {
             "colorbar": {
              "outlinewidth": 0,
              "ticks": ""
             }
            },
            "type": "scatterpolar"
           }
          ],
          "scatterpolargl": [
           {
            "marker": {
             "colorbar": {
              "outlinewidth": 0,
              "ticks": ""
             }
            },
            "type": "scatterpolargl"
           }
          ],
          "scatterternary": [
           {
            "marker": {
             "colorbar": {
              "outlinewidth": 0,
              "ticks": ""
             }
            },
            "type": "scatterternary"
           }
          ],
          "surface": [
           {
            "colorbar": {
             "outlinewidth": 0,
             "ticks": ""
            },
            "colorscale": [
             [
              0,
              "#0d0887"
             ],
             [
              0.1111111111111111,
              "#46039f"
             ],
             [
              0.2222222222222222,
              "#7201a8"
             ],
             [
              0.3333333333333333,
              "#9c179e"
             ],
             [
              0.4444444444444444,
              "#bd3786"
             ],
             [
              0.5555555555555556,
              "#d8576b"
             ],
             [
              0.6666666666666666,
              "#ed7953"
             ],
             [
              0.7777777777777778,
              "#fb9f3a"
             ],
             [
              0.8888888888888888,
              "#fdca26"
             ],
             [
              1,
              "#f0f921"
             ]
            ],
            "type": "surface"
           }
          ],
          "table": [
           {
            "cells": {
             "fill": {
              "color": "#EBF0F8"
             },
             "line": {
              "color": "white"
             }
            },
            "header": {
             "fill": {
              "color": "#C8D4E3"
             },
             "line": {
              "color": "white"
             }
            },
            "type": "table"
           }
          ]
         },
         "layout": {
          "annotationdefaults": {
           "arrowcolor": "#2a3f5f",
           "arrowhead": 0,
           "arrowwidth": 1
          },
          "autotypenumbers": "strict",
          "coloraxis": {
           "colorbar": {
            "outlinewidth": 0,
            "ticks": ""
           }
          },
          "colorscale": {
           "diverging": [
            [
             0,
             "#8e0152"
            ],
            [
             0.1,
             "#c51b7d"
            ],
            [
             0.2,
             "#de77ae"
            ],
            [
             0.3,
             "#f1b6da"
            ],
            [
             0.4,
             "#fde0ef"
            ],
            [
             0.5,
             "#f7f7f7"
            ],
            [
             0.6,
             "#e6f5d0"
            ],
            [
             0.7,
             "#b8e186"
            ],
            [
             0.8,
             "#7fbc41"
            ],
            [
             0.9,
             "#4d9221"
            ],
            [
             1,
             "#276419"
            ]
           ],
           "sequential": [
            [
             0,
             "#0d0887"
            ],
            [
             0.1111111111111111,
             "#46039f"
            ],
            [
             0.2222222222222222,
             "#7201a8"
            ],
            [
             0.3333333333333333,
             "#9c179e"
            ],
            [
             0.4444444444444444,
             "#bd3786"
            ],
            [
             0.5555555555555556,
             "#d8576b"
            ],
            [
             0.6666666666666666,
             "#ed7953"
            ],
            [
             0.7777777777777778,
             "#fb9f3a"
            ],
            [
             0.8888888888888888,
             "#fdca26"
            ],
            [
             1,
             "#f0f921"
            ]
           ],
           "sequentialminus": [
            [
             0,
             "#0d0887"
            ],
            [
             0.1111111111111111,
             "#46039f"
            ],
            [
             0.2222222222222222,
             "#7201a8"
            ],
            [
             0.3333333333333333,
             "#9c179e"
            ],
            [
             0.4444444444444444,
             "#bd3786"
            ],
            [
             0.5555555555555556,
             "#d8576b"
            ],
            [
             0.6666666666666666,
             "#ed7953"
            ],
            [
             0.7777777777777778,
             "#fb9f3a"
            ],
            [
             0.8888888888888888,
             "#fdca26"
            ],
            [
             1,
             "#f0f921"
            ]
           ]
          },
          "colorway": [
           "#636efa",
           "#EF553B",
           "#00cc96",
           "#ab63fa",
           "#FFA15A",
           "#19d3f3",
           "#FF6692",
           "#B6E880",
           "#FF97FF",
           "#FECB52"
          ],
          "font": {
           "color": "#2a3f5f"
          },
          "geo": {
           "bgcolor": "white",
           "lakecolor": "white",
           "landcolor": "#E5ECF6",
           "showlakes": true,
           "showland": true,
           "subunitcolor": "white"
          },
          "hoverlabel": {
           "align": "left"
          },
          "hovermode": "closest",
          "mapbox": {
           "style": "light"
          },
          "paper_bgcolor": "white",
          "plot_bgcolor": "#E5ECF6",
          "polar": {
           "angularaxis": {
            "gridcolor": "white",
            "linecolor": "white",
            "ticks": ""
           },
           "bgcolor": "#E5ECF6",
           "radialaxis": {
            "gridcolor": "white",
            "linecolor": "white",
            "ticks": ""
           }
          },
          "scene": {
           "xaxis": {
            "backgroundcolor": "#E5ECF6",
            "gridcolor": "white",
            "gridwidth": 2,
            "linecolor": "white",
            "showbackground": true,
            "ticks": "",
            "zerolinecolor": "white"
           },
           "yaxis": {
            "backgroundcolor": "#E5ECF6",
            "gridcolor": "white",
            "gridwidth": 2,
            "linecolor": "white",
            "showbackground": true,
            "ticks": "",
            "zerolinecolor": "white"
           },
           "zaxis": {
            "backgroundcolor": "#E5ECF6",
            "gridcolor": "white",
            "gridwidth": 2,
            "linecolor": "white",
            "showbackground": true,
            "ticks": "",
            "zerolinecolor": "white"
           }
          },
          "shapedefaults": {
           "line": {
            "color": "#2a3f5f"
           }
          },
          "ternary": {
           "aaxis": {
            "gridcolor": "white",
            "linecolor": "white",
            "ticks": ""
           },
           "baxis": {
            "gridcolor": "white",
            "linecolor": "white",
            "ticks": ""
           },
           "bgcolor": "#E5ECF6",
           "caxis": {
            "gridcolor": "white",
            "linecolor": "white",
            "ticks": ""
           }
          },
          "title": {
           "x": 0.05
          },
          "xaxis": {
           "automargin": true,
           "gridcolor": "white",
           "linecolor": "white",
           "ticks": "",
           "title": {
            "standoff": 15
           },
           "zerolinecolor": "white",
           "zerolinewidth": 2
          },
          "yaxis": {
           "automargin": true,
           "gridcolor": "white",
           "linecolor": "white",
           "ticks": "",
           "title": {
            "standoff": 15
           },
           "zerolinecolor": "white",
           "zerolinewidth": 2
          }
         }
        },
        "title": {
         "text": "Distribuição de Cargos entre os Respondentes"
        },
        "xaxis": {
         "anchor": "y",
         "domain": [
          0,
          1
         ],
         "title": {
          "text": "Contagem"
         }
        },
        "yaxis": {
         "anchor": "x",
         "domain": [
          0,
          1
         ],
         "title": {
          "text": "Cargo Atual"
         }
        }
       }
      }
     },
     "metadata": {},
     "output_type": "display_data"
    }
   ],
   "source": [
    "#PERGUNTA: Qual é a distribuição de cargos entre os respondentes?\n",
    "\n",
    "job_distribution = df['Cargo Atual'].value_counts().reset_index()\n",
    "job_distribution.columns = ['Cargo Atual', 'Contagem']\n",
    "\n",
    "\n",
    "fig = px.bar(job_distribution, x='Contagem', y='Cargo Atual', orientation='h',\n",
    "             title='Distribuição de Cargos entre os Respondentes')\n",
    "\n",
    "fig.show()"
   ]
  },
  {
   "cell_type": "code",
   "execution_count": 8,
   "metadata": {},
   "outputs": [
    {
     "data": {
      "application/vnd.plotly.v1+json": {
       "config": {
        "plotlyServerURL": "https://plot.ly"
       },
       "data": [
        {
         "alignmentgroup": "True",
         "hovertemplate": "etnia=%{x}<br>Contagem=%{y}<extra></extra>",
         "legendgroup": "",
         "marker": {
          "color": "#636efa",
          "pattern": {
           "shape": ""
          }
         },
         "name": "",
         "offsetgroup": "",
         "orientation": "v",
         "showlegend": false,
         "textposition": "auto",
         "type": "bar",
         "x": [
          "Branca",
          "Parda",
          "Preta",
          "Amarela",
          "Prefiro não informar",
          "Outra",
          "Indígena"
         ],
         "xaxis": "x",
         "y": [
          2744,
          1054,
          291,
          128,
          26,
          17,
          11
         ],
         "yaxis": "y"
        }
       ],
       "layout": {
        "barmode": "relative",
        "legend": {
         "tracegroupgap": 0
        },
        "showlegend": false,
        "template": {
         "data": {
          "bar": [
           {
            "error_x": {
             "color": "#2a3f5f"
            },
            "error_y": {
             "color": "#2a3f5f"
            },
            "marker": {
             "line": {
              "color": "#E5ECF6",
              "width": 0.5
             },
             "pattern": {
              "fillmode": "overlay",
              "size": 10,
              "solidity": 0.2
             }
            },
            "type": "bar"
           }
          ],
          "barpolar": [
           {
            "marker": {
             "line": {
              "color": "#E5ECF6",
              "width": 0.5
             },
             "pattern": {
              "fillmode": "overlay",
              "size": 10,
              "solidity": 0.2
             }
            },
            "type": "barpolar"
           }
          ],
          "carpet": [
           {
            "aaxis": {
             "endlinecolor": "#2a3f5f",
             "gridcolor": "white",
             "linecolor": "white",
             "minorgridcolor": "white",
             "startlinecolor": "#2a3f5f"
            },
            "baxis": {
             "endlinecolor": "#2a3f5f",
             "gridcolor": "white",
             "linecolor": "white",
             "minorgridcolor": "white",
             "startlinecolor": "#2a3f5f"
            },
            "type": "carpet"
           }
          ],
          "choropleth": [
           {
            "colorbar": {
             "outlinewidth": 0,
             "ticks": ""
            },
            "type": "choropleth"
           }
          ],
          "contour": [
           {
            "colorbar": {
             "outlinewidth": 0,
             "ticks": ""
            },
            "colorscale": [
             [
              0,
              "#0d0887"
             ],
             [
              0.1111111111111111,
              "#46039f"
             ],
             [
              0.2222222222222222,
              "#7201a8"
             ],
             [
              0.3333333333333333,
              "#9c179e"
             ],
             [
              0.4444444444444444,
              "#bd3786"
             ],
             [
              0.5555555555555556,
              "#d8576b"
             ],
             [
              0.6666666666666666,
              "#ed7953"
             ],
             [
              0.7777777777777778,
              "#fb9f3a"
             ],
             [
              0.8888888888888888,
              "#fdca26"
             ],
             [
              1,
              "#f0f921"
             ]
            ],
            "type": "contour"
           }
          ],
          "contourcarpet": [
           {
            "colorbar": {
             "outlinewidth": 0,
             "ticks": ""
            },
            "type": "contourcarpet"
           }
          ],
          "heatmap": [
           {
            "colorbar": {
             "outlinewidth": 0,
             "ticks": ""
            },
            "colorscale": [
             [
              0,
              "#0d0887"
             ],
             [
              0.1111111111111111,
              "#46039f"
             ],
             [
              0.2222222222222222,
              "#7201a8"
             ],
             [
              0.3333333333333333,
              "#9c179e"
             ],
             [
              0.4444444444444444,
              "#bd3786"
             ],
             [
              0.5555555555555556,
              "#d8576b"
             ],
             [
              0.6666666666666666,
              "#ed7953"
             ],
             [
              0.7777777777777778,
              "#fb9f3a"
             ],
             [
              0.8888888888888888,
              "#fdca26"
             ],
             [
              1,
              "#f0f921"
             ]
            ],
            "type": "heatmap"
           }
          ],
          "heatmapgl": [
           {
            "colorbar": {
             "outlinewidth": 0,
             "ticks": ""
            },
            "colorscale": [
             [
              0,
              "#0d0887"
             ],
             [
              0.1111111111111111,
              "#46039f"
             ],
             [
              0.2222222222222222,
              "#7201a8"
             ],
             [
              0.3333333333333333,
              "#9c179e"
             ],
             [
              0.4444444444444444,
              "#bd3786"
             ],
             [
              0.5555555555555556,
              "#d8576b"
             ],
             [
              0.6666666666666666,
              "#ed7953"
             ],
             [
              0.7777777777777778,
              "#fb9f3a"
             ],
             [
              0.8888888888888888,
              "#fdca26"
             ],
             [
              1,
              "#f0f921"
             ]
            ],
            "type": "heatmapgl"
           }
          ],
          "histogram": [
           {
            "marker": {
             "pattern": {
              "fillmode": "overlay",
              "size": 10,
              "solidity": 0.2
             }
            },
            "type": "histogram"
           }
          ],
          "histogram2d": [
           {
            "colorbar": {
             "outlinewidth": 0,
             "ticks": ""
            },
            "colorscale": [
             [
              0,
              "#0d0887"
             ],
             [
              0.1111111111111111,
              "#46039f"
             ],
             [
              0.2222222222222222,
              "#7201a8"
             ],
             [
              0.3333333333333333,
              "#9c179e"
             ],
             [
              0.4444444444444444,
              "#bd3786"
             ],
             [
              0.5555555555555556,
              "#d8576b"
             ],
             [
              0.6666666666666666,
              "#ed7953"
             ],
             [
              0.7777777777777778,
              "#fb9f3a"
             ],
             [
              0.8888888888888888,
              "#fdca26"
             ],
             [
              1,
              "#f0f921"
             ]
            ],
            "type": "histogram2d"
           }
          ],
          "histogram2dcontour": [
           {
            "colorbar": {
             "outlinewidth": 0,
             "ticks": ""
            },
            "colorscale": [
             [
              0,
              "#0d0887"
             ],
             [
              0.1111111111111111,
              "#46039f"
             ],
             [
              0.2222222222222222,
              "#7201a8"
             ],
             [
              0.3333333333333333,
              "#9c179e"
             ],
             [
              0.4444444444444444,
              "#bd3786"
             ],
             [
              0.5555555555555556,
              "#d8576b"
             ],
             [
              0.6666666666666666,
              "#ed7953"
             ],
             [
              0.7777777777777778,
              "#fb9f3a"
             ],
             [
              0.8888888888888888,
              "#fdca26"
             ],
             [
              1,
              "#f0f921"
             ]
            ],
            "type": "histogram2dcontour"
           }
          ],
          "mesh3d": [
           {
            "colorbar": {
             "outlinewidth": 0,
             "ticks": ""
            },
            "type": "mesh3d"
           }
          ],
          "parcoords": [
           {
            "line": {
             "colorbar": {
              "outlinewidth": 0,
              "ticks": ""
             }
            },
            "type": "parcoords"
           }
          ],
          "pie": [
           {
            "automargin": true,
            "type": "pie"
           }
          ],
          "scatter": [
           {
            "fillpattern": {
             "fillmode": "overlay",
             "size": 10,
             "solidity": 0.2
            },
            "type": "scatter"
           }
          ],
          "scatter3d": [
           {
            "line": {
             "colorbar": {
              "outlinewidth": 0,
              "ticks": ""
             }
            },
            "marker": {
             "colorbar": {
              "outlinewidth": 0,
              "ticks": ""
             }
            },
            "type": "scatter3d"
           }
          ],
          "scattercarpet": [
           {
            "marker": {
             "colorbar": {
              "outlinewidth": 0,
              "ticks": ""
             }
            },
            "type": "scattercarpet"
           }
          ],
          "scattergeo": [
           {
            "marker": {
             "colorbar": {
              "outlinewidth": 0,
              "ticks": ""
             }
            },
            "type": "scattergeo"
           }
          ],
          "scattergl": [
           {
            "marker": {
             "colorbar": {
              "outlinewidth": 0,
              "ticks": ""
             }
            },
            "type": "scattergl"
           }
          ],
          "scattermapbox": [
           {
            "marker": {
             "colorbar": {
              "outlinewidth": 0,
              "ticks": ""
             }
            },
            "type": "scattermapbox"
           }
          ],
          "scatterpolar": [
           {
            "marker": {
             "colorbar": {
              "outlinewidth": 0,
              "ticks": ""
             }
            },
            "type": "scatterpolar"
           }
          ],
          "scatterpolargl": [
           {
            "marker": {
             "colorbar": {
              "outlinewidth": 0,
              "ticks": ""
             }
            },
            "type": "scatterpolargl"
           }
          ],
          "scatterternary": [
           {
            "marker": {
             "colorbar": {
              "outlinewidth": 0,
              "ticks": ""
             }
            },
            "type": "scatterternary"
           }
          ],
          "surface": [
           {
            "colorbar": {
             "outlinewidth": 0,
             "ticks": ""
            },
            "colorscale": [
             [
              0,
              "#0d0887"
             ],
             [
              0.1111111111111111,
              "#46039f"
             ],
             [
              0.2222222222222222,
              "#7201a8"
             ],
             [
              0.3333333333333333,
              "#9c179e"
             ],
             [
              0.4444444444444444,
              "#bd3786"
             ],
             [
              0.5555555555555556,
              "#d8576b"
             ],
             [
              0.6666666666666666,
              "#ed7953"
             ],
             [
              0.7777777777777778,
              "#fb9f3a"
             ],
             [
              0.8888888888888888,
              "#fdca26"
             ],
             [
              1,
              "#f0f921"
             ]
            ],
            "type": "surface"
           }
          ],
          "table": [
           {
            "cells": {
             "fill": {
              "color": "#EBF0F8"
             },
             "line": {
              "color": "white"
             }
            },
            "header": {
             "fill": {
              "color": "#C8D4E3"
             },
             "line": {
              "color": "white"
             }
            },
            "type": "table"
           }
          ]
         },
         "layout": {
          "annotationdefaults": {
           "arrowcolor": "#2a3f5f",
           "arrowhead": 0,
           "arrowwidth": 1
          },
          "autotypenumbers": "strict",
          "coloraxis": {
           "colorbar": {
            "outlinewidth": 0,
            "ticks": ""
           }
          },
          "colorscale": {
           "diverging": [
            [
             0,
             "#8e0152"
            ],
            [
             0.1,
             "#c51b7d"
            ],
            [
             0.2,
             "#de77ae"
            ],
            [
             0.3,
             "#f1b6da"
            ],
            [
             0.4,
             "#fde0ef"
            ],
            [
             0.5,
             "#f7f7f7"
            ],
            [
             0.6,
             "#e6f5d0"
            ],
            [
             0.7,
             "#b8e186"
            ],
            [
             0.8,
             "#7fbc41"
            ],
            [
             0.9,
             "#4d9221"
            ],
            [
             1,
             "#276419"
            ]
           ],
           "sequential": [
            [
             0,
             "#0d0887"
            ],
            [
             0.1111111111111111,
             "#46039f"
            ],
            [
             0.2222222222222222,
             "#7201a8"
            ],
            [
             0.3333333333333333,
             "#9c179e"
            ],
            [
             0.4444444444444444,
             "#bd3786"
            ],
            [
             0.5555555555555556,
             "#d8576b"
            ],
            [
             0.6666666666666666,
             "#ed7953"
            ],
            [
             0.7777777777777778,
             "#fb9f3a"
            ],
            [
             0.8888888888888888,
             "#fdca26"
            ],
            [
             1,
             "#f0f921"
            ]
           ],
           "sequentialminus": [
            [
             0,
             "#0d0887"
            ],
            [
             0.1111111111111111,
             "#46039f"
            ],
            [
             0.2222222222222222,
             "#7201a8"
            ],
            [
             0.3333333333333333,
             "#9c179e"
            ],
            [
             0.4444444444444444,
             "#bd3786"
            ],
            [
             0.5555555555555556,
             "#d8576b"
            ],
            [
             0.6666666666666666,
             "#ed7953"
            ],
            [
             0.7777777777777778,
             "#fb9f3a"
            ],
            [
             0.8888888888888888,
             "#fdca26"
            ],
            [
             1,
             "#f0f921"
            ]
           ]
          },
          "colorway": [
           "#636efa",
           "#EF553B",
           "#00cc96",
           "#ab63fa",
           "#FFA15A",
           "#19d3f3",
           "#FF6692",
           "#B6E880",
           "#FF97FF",
           "#FECB52"
          ],
          "font": {
           "color": "#2a3f5f"
          },
          "geo": {
           "bgcolor": "white",
           "lakecolor": "white",
           "landcolor": "#E5ECF6",
           "showlakes": true,
           "showland": true,
           "subunitcolor": "white"
          },
          "hoverlabel": {
           "align": "left"
          },
          "hovermode": "closest",
          "mapbox": {
           "style": "light"
          },
          "paper_bgcolor": "white",
          "plot_bgcolor": "#E5ECF6",
          "polar": {
           "angularaxis": {
            "gridcolor": "white",
            "linecolor": "white",
            "ticks": ""
           },
           "bgcolor": "#E5ECF6",
           "radialaxis": {
            "gridcolor": "white",
            "linecolor": "white",
            "ticks": ""
           }
          },
          "scene": {
           "xaxis": {
            "backgroundcolor": "#E5ECF6",
            "gridcolor": "white",
            "gridwidth": 2,
            "linecolor": "white",
            "showbackground": true,
            "ticks": "",
            "zerolinecolor": "white"
           },
           "yaxis": {
            "backgroundcolor": "#E5ECF6",
            "gridcolor": "white",
            "gridwidth": 2,
            "linecolor": "white",
            "showbackground": true,
            "ticks": "",
            "zerolinecolor": "white"
           },
           "zaxis": {
            "backgroundcolor": "#E5ECF6",
            "gridcolor": "white",
            "gridwidth": 2,
            "linecolor": "white",
            "showbackground": true,
            "ticks": "",
            "zerolinecolor": "white"
           }
          },
          "shapedefaults": {
           "line": {
            "color": "#2a3f5f"
           }
          },
          "ternary": {
           "aaxis": {
            "gridcolor": "white",
            "linecolor": "white",
            "ticks": ""
           },
           "baxis": {
            "gridcolor": "white",
            "linecolor": "white",
            "ticks": ""
           },
           "bgcolor": "#E5ECF6",
           "caxis": {
            "gridcolor": "white",
            "linecolor": "white",
            "ticks": ""
           }
          },
          "title": {
           "x": 0.05
          },
          "xaxis": {
           "automargin": true,
           "gridcolor": "white",
           "linecolor": "white",
           "ticks": "",
           "title": {
            "standoff": 15
           },
           "zerolinecolor": "white",
           "zerolinewidth": 2
          },
          "yaxis": {
           "automargin": true,
           "gridcolor": "white",
           "linecolor": "white",
           "ticks": "",
           "title": {
            "standoff": 15
           },
           "zerolinecolor": "white",
           "zerolinewidth": 2
          }
         }
        },
        "title": {
         "text": "Distribuição de Raça/Etnia"
        },
        "xaxis": {
         "anchor": "y",
         "domain": [
          0,
          1
         ],
         "title": {
          "text": "Raça/Etnia"
         }
        },
        "yaxis": {
         "anchor": "x",
         "domain": [
          0,
          1
         ],
         "title": {
          "text": "Contagem"
         }
        }
       }
      }
     },
     "metadata": {},
     "output_type": "display_data"
    }
   ],
   "source": [
    "# PERGUNTA: Qual é a distruibuição de anos de experiência dos respondentes?\n",
    "\n",
    "contagem_etnias = df['Cor/raca/etnia'].value_counts()\n",
    "\n",
    "\n",
    "df_etnias = pd.DataFrame({'etnia': contagem_etnias.index, 'Contagem': contagem_etnias.values})\n",
    "\n",
    "\n",
    "fig = px.bar(df_etnias, x='etnia', y='Contagem', title='Distribuição de Raça/Etnia')\n",
    "\n",
    "\n",
    "fig.update_layout(xaxis_title='Raça/Etnia', yaxis_title='Contagem', showlegend=False)\n",
    "\n",
    "\n",
    "fig.show()\n"
   ]
  },
  {
   "cell_type": "code",
   "execution_count": 9,
   "metadata": {},
   "outputs": [
    {
     "data": {
      "application/vnd.plotly.v1+json": {
       "config": {
        "plotlyServerURL": "https://plot.ly"
       },
       "data": [
        {
         "alignmentgroup": "True",
         "hovertemplate": "Status PCD=%{x}<br>Contagem=%{text}<extra></extra>",
         "legendgroup": "",
         "marker": {
          "color": "#636efa",
          "pattern": {
           "shape": ""
          }
         },
         "name": "",
         "offsetgroup": "",
         "orientation": "v",
         "showlegend": false,
         "text": [
          54,
          4217
         ],
         "textposition": "outside",
         "texttemplate": "%{text}",
         "type": "bar",
         "x": [
          "PCD",
          "Não PCD"
         ],
         "xaxis": "x",
         "y": [
          54,
          4217
         ],
         "yaxis": "y"
        }
       ],
       "layout": {
        "barmode": "relative",
        "legend": {
         "tracegroupgap": 0
        },
        "showlegend": false,
        "template": {
         "data": {
          "bar": [
           {
            "error_x": {
             "color": "#2a3f5f"
            },
            "error_y": {
             "color": "#2a3f5f"
            },
            "marker": {
             "line": {
              "color": "#E5ECF6",
              "width": 0.5
             },
             "pattern": {
              "fillmode": "overlay",
              "size": 10,
              "solidity": 0.2
             }
            },
            "type": "bar"
           }
          ],
          "barpolar": [
           {
            "marker": {
             "line": {
              "color": "#E5ECF6",
              "width": 0.5
             },
             "pattern": {
              "fillmode": "overlay",
              "size": 10,
              "solidity": 0.2
             }
            },
            "type": "barpolar"
           }
          ],
          "carpet": [
           {
            "aaxis": {
             "endlinecolor": "#2a3f5f",
             "gridcolor": "white",
             "linecolor": "white",
             "minorgridcolor": "white",
             "startlinecolor": "#2a3f5f"
            },
            "baxis": {
             "endlinecolor": "#2a3f5f",
             "gridcolor": "white",
             "linecolor": "white",
             "minorgridcolor": "white",
             "startlinecolor": "#2a3f5f"
            },
            "type": "carpet"
           }
          ],
          "choropleth": [
           {
            "colorbar": {
             "outlinewidth": 0,
             "ticks": ""
            },
            "type": "choropleth"
           }
          ],
          "contour": [
           {
            "colorbar": {
             "outlinewidth": 0,
             "ticks": ""
            },
            "colorscale": [
             [
              0,
              "#0d0887"
             ],
             [
              0.1111111111111111,
              "#46039f"
             ],
             [
              0.2222222222222222,
              "#7201a8"
             ],
             [
              0.3333333333333333,
              "#9c179e"
             ],
             [
              0.4444444444444444,
              "#bd3786"
             ],
             [
              0.5555555555555556,
              "#d8576b"
             ],
             [
              0.6666666666666666,
              "#ed7953"
             ],
             [
              0.7777777777777778,
              "#fb9f3a"
             ],
             [
              0.8888888888888888,
              "#fdca26"
             ],
             [
              1,
              "#f0f921"
             ]
            ],
            "type": "contour"
           }
          ],
          "contourcarpet": [
           {
            "colorbar": {
             "outlinewidth": 0,
             "ticks": ""
            },
            "type": "contourcarpet"
           }
          ],
          "heatmap": [
           {
            "colorbar": {
             "outlinewidth": 0,
             "ticks": ""
            },
            "colorscale": [
             [
              0,
              "#0d0887"
             ],
             [
              0.1111111111111111,
              "#46039f"
             ],
             [
              0.2222222222222222,
              "#7201a8"
             ],
             [
              0.3333333333333333,
              "#9c179e"
             ],
             [
              0.4444444444444444,
              "#bd3786"
             ],
             [
              0.5555555555555556,
              "#d8576b"
             ],
             [
              0.6666666666666666,
              "#ed7953"
             ],
             [
              0.7777777777777778,
              "#fb9f3a"
             ],
             [
              0.8888888888888888,
              "#fdca26"
             ],
             [
              1,
              "#f0f921"
             ]
            ],
            "type": "heatmap"
           }
          ],
          "heatmapgl": [
           {
            "colorbar": {
             "outlinewidth": 0,
             "ticks": ""
            },
            "colorscale": [
             [
              0,
              "#0d0887"
             ],
             [
              0.1111111111111111,
              "#46039f"
             ],
             [
              0.2222222222222222,
              "#7201a8"
             ],
             [
              0.3333333333333333,
              "#9c179e"
             ],
             [
              0.4444444444444444,
              "#bd3786"
             ],
             [
              0.5555555555555556,
              "#d8576b"
             ],
             [
              0.6666666666666666,
              "#ed7953"
             ],
             [
              0.7777777777777778,
              "#fb9f3a"
             ],
             [
              0.8888888888888888,
              "#fdca26"
             ],
             [
              1,
              "#f0f921"
             ]
            ],
            "type": "heatmapgl"
           }
          ],
          "histogram": [
           {
            "marker": {
             "pattern": {
              "fillmode": "overlay",
              "size": 10,
              "solidity": 0.2
             }
            },
            "type": "histogram"
           }
          ],
          "histogram2d": [
           {
            "colorbar": {
             "outlinewidth": 0,
             "ticks": ""
            },
            "colorscale": [
             [
              0,
              "#0d0887"
             ],
             [
              0.1111111111111111,
              "#46039f"
             ],
             [
              0.2222222222222222,
              "#7201a8"
             ],
             [
              0.3333333333333333,
              "#9c179e"
             ],
             [
              0.4444444444444444,
              "#bd3786"
             ],
             [
              0.5555555555555556,
              "#d8576b"
             ],
             [
              0.6666666666666666,
              "#ed7953"
             ],
             [
              0.7777777777777778,
              "#fb9f3a"
             ],
             [
              0.8888888888888888,
              "#fdca26"
             ],
             [
              1,
              "#f0f921"
             ]
            ],
            "type": "histogram2d"
           }
          ],
          "histogram2dcontour": [
           {
            "colorbar": {
             "outlinewidth": 0,
             "ticks": ""
            },
            "colorscale": [
             [
              0,
              "#0d0887"
             ],
             [
              0.1111111111111111,
              "#46039f"
             ],
             [
              0.2222222222222222,
              "#7201a8"
             ],
             [
              0.3333333333333333,
              "#9c179e"
             ],
             [
              0.4444444444444444,
              "#bd3786"
             ],
             [
              0.5555555555555556,
              "#d8576b"
             ],
             [
              0.6666666666666666,
              "#ed7953"
             ],
             [
              0.7777777777777778,
              "#fb9f3a"
             ],
             [
              0.8888888888888888,
              "#fdca26"
             ],
             [
              1,
              "#f0f921"
             ]
            ],
            "type": "histogram2dcontour"
           }
          ],
          "mesh3d": [
           {
            "colorbar": {
             "outlinewidth": 0,
             "ticks": ""
            },
            "type": "mesh3d"
           }
          ],
          "parcoords": [
           {
            "line": {
             "colorbar": {
              "outlinewidth": 0,
              "ticks": ""
             }
            },
            "type": "parcoords"
           }
          ],
          "pie": [
           {
            "automargin": true,
            "type": "pie"
           }
          ],
          "scatter": [
           {
            "fillpattern": {
             "fillmode": "overlay",
             "size": 10,
             "solidity": 0.2
            },
            "type": "scatter"
           }
          ],
          "scatter3d": [
           {
            "line": {
             "colorbar": {
              "outlinewidth": 0,
              "ticks": ""
             }
            },
            "marker": {
             "colorbar": {
              "outlinewidth": 0,
              "ticks": ""
             }
            },
            "type": "scatter3d"
           }
          ],
          "scattercarpet": [
           {
            "marker": {
             "colorbar": {
              "outlinewidth": 0,
              "ticks": ""
             }
            },
            "type": "scattercarpet"
           }
          ],
          "scattergeo": [
           {
            "marker": {
             "colorbar": {
              "outlinewidth": 0,
              "ticks": ""
             }
            },
            "type": "scattergeo"
           }
          ],
          "scattergl": [
           {
            "marker": {
             "colorbar": {
              "outlinewidth": 0,
              "ticks": ""
             }
            },
            "type": "scattergl"
           }
          ],
          "scattermapbox": [
           {
            "marker": {
             "colorbar": {
              "outlinewidth": 0,
              "ticks": ""
             }
            },
            "type": "scattermapbox"
           }
          ],
          "scatterpolar": [
           {
            "marker": {
             "colorbar": {
              "outlinewidth": 0,
              "ticks": ""
             }
            },
            "type": "scatterpolar"
           }
          ],
          "scatterpolargl": [
           {
            "marker": {
             "colorbar": {
              "outlinewidth": 0,
              "ticks": ""
             }
            },
            "type": "scatterpolargl"
           }
          ],
          "scatterternary": [
           {
            "marker": {
             "colorbar": {
              "outlinewidth": 0,
              "ticks": ""
             }
            },
            "type": "scatterternary"
           }
          ],
          "surface": [
           {
            "colorbar": {
             "outlinewidth": 0,
             "ticks": ""
            },
            "colorscale": [
             [
              0,
              "#0d0887"
             ],
             [
              0.1111111111111111,
              "#46039f"
             ],
             [
              0.2222222222222222,
              "#7201a8"
             ],
             [
              0.3333333333333333,
              "#9c179e"
             ],
             [
              0.4444444444444444,
              "#bd3786"
             ],
             [
              0.5555555555555556,
              "#d8576b"
             ],
             [
              0.6666666666666666,
              "#ed7953"
             ],
             [
              0.7777777777777778,
              "#fb9f3a"
             ],
             [
              0.8888888888888888,
              "#fdca26"
             ],
             [
              1,
              "#f0f921"
             ]
            ],
            "type": "surface"
           }
          ],
          "table": [
           {
            "cells": {
             "fill": {
              "color": "#EBF0F8"
             },
             "line": {
              "color": "white"
             }
            },
            "header": {
             "fill": {
              "color": "#C8D4E3"
             },
             "line": {
              "color": "white"
             }
            },
            "type": "table"
           }
          ]
         },
         "layout": {
          "annotationdefaults": {
           "arrowcolor": "#2a3f5f",
           "arrowhead": 0,
           "arrowwidth": 1
          },
          "autotypenumbers": "strict",
          "coloraxis": {
           "colorbar": {
            "outlinewidth": 0,
            "ticks": ""
           }
          },
          "colorscale": {
           "diverging": [
            [
             0,
             "#8e0152"
            ],
            [
             0.1,
             "#c51b7d"
            ],
            [
             0.2,
             "#de77ae"
            ],
            [
             0.3,
             "#f1b6da"
            ],
            [
             0.4,
             "#fde0ef"
            ],
            [
             0.5,
             "#f7f7f7"
            ],
            [
             0.6,
             "#e6f5d0"
            ],
            [
             0.7,
             "#b8e186"
            ],
            [
             0.8,
             "#7fbc41"
            ],
            [
             0.9,
             "#4d9221"
            ],
            [
             1,
             "#276419"
            ]
           ],
           "sequential": [
            [
             0,
             "#0d0887"
            ],
            [
             0.1111111111111111,
             "#46039f"
            ],
            [
             0.2222222222222222,
             "#7201a8"
            ],
            [
             0.3333333333333333,
             "#9c179e"
            ],
            [
             0.4444444444444444,
             "#bd3786"
            ],
            [
             0.5555555555555556,
             "#d8576b"
            ],
            [
             0.6666666666666666,
             "#ed7953"
            ],
            [
             0.7777777777777778,
             "#fb9f3a"
            ],
            [
             0.8888888888888888,
             "#fdca26"
            ],
            [
             1,
             "#f0f921"
            ]
           ],
           "sequentialminus": [
            [
             0,
             "#0d0887"
            ],
            [
             0.1111111111111111,
             "#46039f"
            ],
            [
             0.2222222222222222,
             "#7201a8"
            ],
            [
             0.3333333333333333,
             "#9c179e"
            ],
            [
             0.4444444444444444,
             "#bd3786"
            ],
            [
             0.5555555555555556,
             "#d8576b"
            ],
            [
             0.6666666666666666,
             "#ed7953"
            ],
            [
             0.7777777777777778,
             "#fb9f3a"
            ],
            [
             0.8888888888888888,
             "#fdca26"
            ],
            [
             1,
             "#f0f921"
            ]
           ]
          },
          "colorway": [
           "#636efa",
           "#EF553B",
           "#00cc96",
           "#ab63fa",
           "#FFA15A",
           "#19d3f3",
           "#FF6692",
           "#B6E880",
           "#FF97FF",
           "#FECB52"
          ],
          "font": {
           "color": "#2a3f5f"
          },
          "geo": {
           "bgcolor": "white",
           "lakecolor": "white",
           "landcolor": "#E5ECF6",
           "showlakes": true,
           "showland": true,
           "subunitcolor": "white"
          },
          "hoverlabel": {
           "align": "left"
          },
          "hovermode": "closest",
          "mapbox": {
           "style": "light"
          },
          "paper_bgcolor": "white",
          "plot_bgcolor": "#E5ECF6",
          "polar": {
           "angularaxis": {
            "gridcolor": "white",
            "linecolor": "white",
            "ticks": ""
           },
           "bgcolor": "#E5ECF6",
           "radialaxis": {
            "gridcolor": "white",
            "linecolor": "white",
            "ticks": ""
           }
          },
          "scene": {
           "xaxis": {
            "backgroundcolor": "#E5ECF6",
            "gridcolor": "white",
            "gridwidth": 2,
            "linecolor": "white",
            "showbackground": true,
            "ticks": "",
            "zerolinecolor": "white"
           },
           "yaxis": {
            "backgroundcolor": "#E5ECF6",
            "gridcolor": "white",
            "gridwidth": 2,
            "linecolor": "white",
            "showbackground": true,
            "ticks": "",
            "zerolinecolor": "white"
           },
           "zaxis": {
            "backgroundcolor": "#E5ECF6",
            "gridcolor": "white",
            "gridwidth": 2,
            "linecolor": "white",
            "showbackground": true,
            "ticks": "",
            "zerolinecolor": "white"
           }
          },
          "shapedefaults": {
           "line": {
            "color": "#2a3f5f"
           }
          },
          "ternary": {
           "aaxis": {
            "gridcolor": "white",
            "linecolor": "white",
            "ticks": ""
           },
           "baxis": {
            "gridcolor": "white",
            "linecolor": "white",
            "ticks": ""
           },
           "bgcolor": "#E5ECF6",
           "caxis": {
            "gridcolor": "white",
            "linecolor": "white",
            "ticks": ""
           }
          },
          "title": {
           "x": 0.05
          },
          "xaxis": {
           "automargin": true,
           "gridcolor": "white",
           "linecolor": "white",
           "ticks": "",
           "title": {
            "standoff": 15
           },
           "zerolinecolor": "white",
           "zerolinewidth": 2
          },
          "yaxis": {
           "automargin": true,
           "gridcolor": "white",
           "linecolor": "white",
           "ticks": "",
           "title": {
            "standoff": 15
           },
           "zerolinecolor": "white",
           "zerolinewidth": 2
          }
         }
        },
        "title": {
         "text": "Número de Profissionais de Dados com Deficiência (PCD)"
        },
        "xaxis": {
         "anchor": "y",
         "domain": [
          0,
          1
         ],
         "title": {
          "text": "Status PCD"
         }
        },
        "yaxis": {
         "anchor": "x",
         "domain": [
          0,
          1
         ],
         "title": {
          "text": "Número de Profissionais"
         }
        }
       }
      }
     },
     "metadata": {},
     "output_type": "display_data"
    }
   ],
   "source": [
    "# PERGUNTA: Quantos profissionais de dados têm alguma deficiência (PCD)? \n",
    "\n",
    "pcd_count = df[df['PCD'] == 'Sim'].shape[0]\n",
    "\n",
    "\n",
    "pcd_data = pd.DataFrame({'Status PCD': ['PCD', 'Não PCD'], 'Contagem': [pcd_count, df.shape[0] - pcd_count]})\n",
    "\n",
    "\n",
    "fig = px.bar(pcd_data, x='Status PCD', y='Contagem', text='Contagem', title='Número de Profissionais de Dados com Deficiência (PCD)')\n",
    "\n",
    "\n",
    "fig.update_layout(xaxis_title='Status PCD', yaxis_title='Número de Profissionais', showlegend=False)\n",
    "\n",
    "fig.update_traces(texttemplate='%{text}', textposition='outside')\n",
    "\n",
    "\n",
    "fig.show()"
   ]
  }
 ],
 "metadata": {
  "kernelspec": {
   "display_name": "Python 3",
   "language": "python",
   "name": "python3"
  },
  "language_info": {
   "codemirror_mode": {
    "name": "ipython",
    "version": 3
   },
   "file_extension": ".py",
   "mimetype": "text/x-python",
   "name": "python",
   "nbconvert_exporter": "python",
   "pygments_lexer": "ipython3",
   "version": "3.10.4"
  },
  "orig_nbformat": 4
 },
 "nbformat": 4,
 "nbformat_minor": 2
}
