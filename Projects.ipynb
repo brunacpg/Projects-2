{
 "cells": [
  {
   "cell_type": "code",
   "execution_count": 9,
   "metadata": {},
   "outputs": [],
   "source": [
    "import pandas as pd \n",
    "import plotly.express as px\n",
    "import matplotlib.pyplot as plt\n",
    "import numpy as np\n"
   ]
  },
  {
   "cell_type": "code",
   "execution_count": 10,
   "metadata": {},
   "outputs": [
    {
     "data": {
      "text/html": [
       "<div>\n",
       "<style scoped>\n",
       "    .dataframe tbody tr th:only-of-type {\n",
       "        vertical-align: middle;\n",
       "    }\n",
       "\n",
       "    .dataframe tbody tr th {\n",
       "        vertical-align: top;\n",
       "    }\n",
       "\n",
       "    .dataframe thead th {\n",
       "        text-align: right;\n",
       "    }\n",
       "</style>\n",
       "<table border=\"1\" class=\"dataframe\">\n",
       "  <thead>\n",
       "    <tr style=\"text-align: right;\">\n",
       "      <th></th>\n",
       "      <th>id</th>\n",
       "      <th>Idade</th>\n",
       "      <th>Faixa idade</th>\n",
       "      <th>Genero</th>\n",
       "      <th>Cor/raca/etnia</th>\n",
       "      <th>PCD</th>\n",
       "      <th>experiencia_profissional_prejudicada</th>\n",
       "      <th>aspectos_prejudicados</th>\n",
       "      <th>vive_no_brasil</th>\n",
       "      <th>Estado onde mora</th>\n",
       "      <th>...</th>\n",
       "      <th>Coletando e limpando os dados que uso para análise e modelagem.</th>\n",
       "      <th>Entrando em contato com os times de negócio para definição do problema</th>\n",
       "      <th>Desenvolvendo modelos de Machine Learning com o objetivo de colocar em produção em sistemas (produtos de dados).</th>\n",
       "      <th>Colocando modelos em produção</th>\n",
       "      <th>Cuidando da manutenção de modelos de Machine Learning já em produção</th>\n",
       "      <th>Realizando construções de dashboards em ferramentas de BI como PowerBI</th>\n",
       "      <th>Utilizando ferramentas avançadas de estatística como SAS</th>\n",
       "      <th>Criando e dando manutenção em ETLs</th>\n",
       "      <th>Criando e gerenciando soluções de Feature Store e cultura de MLOps.</th>\n",
       "      <th>Criando e mantendo a infra que meus modelos e soluções rodam (clusters</th>\n",
       "    </tr>\n",
       "  </thead>\n",
       "  <tbody>\n",
       "    <tr>\n",
       "      <th>0</th>\n",
       "      <td>zzqzz3l9ily8nuo2m7wyzzqzz3w48o96</td>\n",
       "      <td>39.0</td>\n",
       "      <td>35-39</td>\n",
       "      <td>Masculino</td>\n",
       "      <td>Parda</td>\n",
       "      <td>Não</td>\n",
       "      <td>Não acredito que minha experiência profissiona...</td>\n",
       "      <td>NaN</td>\n",
       "      <td>True</td>\n",
       "      <td>Distrito Federal (DF)</td>\n",
       "      <td>...</td>\n",
       "      <td>NaN</td>\n",
       "      <td>NaN</td>\n",
       "      <td>NaN</td>\n",
       "      <td>NaN</td>\n",
       "      <td>NaN</td>\n",
       "      <td>NaN</td>\n",
       "      <td>NaN</td>\n",
       "      <td>NaN</td>\n",
       "      <td>NaN</td>\n",
       "      <td>NaN</td>\n",
       "    </tr>\n",
       "    <tr>\n",
       "      <th>1</th>\n",
       "      <td>zzls2oftfn9law393oezzls2ofhvfpzd</td>\n",
       "      <td>32.0</td>\n",
       "      <td>30-34</td>\n",
       "      <td>Masculino</td>\n",
       "      <td>Parda</td>\n",
       "      <td>Não</td>\n",
       "      <td>Sim, acredito que a minha a experiência profis...</td>\n",
       "      <td>Aprovação em processos seletivos/entrevistas</td>\n",
       "      <td>True</td>\n",
       "      <td>Pará (PA)</td>\n",
       "      <td>...</td>\n",
       "      <td>NaN</td>\n",
       "      <td>NaN</td>\n",
       "      <td>NaN</td>\n",
       "      <td>NaN</td>\n",
       "      <td>NaN</td>\n",
       "      <td>NaN</td>\n",
       "      <td>NaN</td>\n",
       "      <td>NaN</td>\n",
       "      <td>NaN</td>\n",
       "      <td>NaN</td>\n",
       "    </tr>\n",
       "    <tr>\n",
       "      <th>2</th>\n",
       "      <td>zzdwqzfqqp1ypc7ps6m0hzzdwqz292yi</td>\n",
       "      <td>53.0</td>\n",
       "      <td>50-54</td>\n",
       "      <td>Masculino</td>\n",
       "      <td>Branca</td>\n",
       "      <td>Não</td>\n",
       "      <td>NaN</td>\n",
       "      <td>NaN</td>\n",
       "      <td>True</td>\n",
       "      <td>Distrito Federal (DF)</td>\n",
       "      <td>...</td>\n",
       "      <td>0.0</td>\n",
       "      <td>1.0</td>\n",
       "      <td>0.0</td>\n",
       "      <td>0.0</td>\n",
       "      <td>0.0</td>\n",
       "      <td>0.0</td>\n",
       "      <td>0.0</td>\n",
       "      <td>0.0</td>\n",
       "      <td>0.0</td>\n",
       "      <td>0.0</td>\n",
       "    </tr>\n",
       "    <tr>\n",
       "      <th>3</th>\n",
       "      <td>zzbqh3uy7yk7k9qmkzzbqtb4s9faqspl</td>\n",
       "      <td>27.0</td>\n",
       "      <td>25-29</td>\n",
       "      <td>Masculino</td>\n",
       "      <td>Branca</td>\n",
       "      <td>Não</td>\n",
       "      <td>NaN</td>\n",
       "      <td>NaN</td>\n",
       "      <td>True</td>\n",
       "      <td>Minas Gerais (MG)</td>\n",
       "      <td>...</td>\n",
       "      <td>1.0</td>\n",
       "      <td>0.0</td>\n",
       "      <td>0.0</td>\n",
       "      <td>0.0</td>\n",
       "      <td>0.0</td>\n",
       "      <td>0.0</td>\n",
       "      <td>0.0</td>\n",
       "      <td>0.0</td>\n",
       "      <td>0.0</td>\n",
       "      <td>0.0</td>\n",
       "    </tr>\n",
       "    <tr>\n",
       "      <th>4</th>\n",
       "      <td>zzaf1m95yan929rb94wzzaf1mekhvhpg</td>\n",
       "      <td>46.0</td>\n",
       "      <td>45-49</td>\n",
       "      <td>Feminino</td>\n",
       "      <td>Branca</td>\n",
       "      <td>Não</td>\n",
       "      <td>Não acredito que minha experiência profissiona...</td>\n",
       "      <td>NaN</td>\n",
       "      <td>True</td>\n",
       "      <td>Pará (PA)</td>\n",
       "      <td>...</td>\n",
       "      <td>NaN</td>\n",
       "      <td>NaN</td>\n",
       "      <td>NaN</td>\n",
       "      <td>NaN</td>\n",
       "      <td>NaN</td>\n",
       "      <td>NaN</td>\n",
       "      <td>NaN</td>\n",
       "      <td>NaN</td>\n",
       "      <td>NaN</td>\n",
       "      <td>NaN</td>\n",
       "    </tr>\n",
       "  </tbody>\n",
       "</table>\n",
       "<p>5 rows × 353 columns</p>\n",
       "</div>"
      ],
      "text/plain": [
       "                                 id  Idade Faixa idade     Genero  \\\n",
       "0  zzqzz3l9ily8nuo2m7wyzzqzz3w48o96   39.0       35-39  Masculino   \n",
       "1  zzls2oftfn9law393oezzls2ofhvfpzd   32.0       30-34  Masculino   \n",
       "2  zzdwqzfqqp1ypc7ps6m0hzzdwqz292yi   53.0       50-54  Masculino   \n",
       "3  zzbqh3uy7yk7k9qmkzzbqtb4s9faqspl   27.0       25-29  Masculino   \n",
       "4  zzaf1m95yan929rb94wzzaf1mekhvhpg   46.0       45-49   Feminino   \n",
       "\n",
       "  Cor/raca/etnia  PCD               experiencia_profissional_prejudicada  \\\n",
       "0          Parda  Não  Não acredito que minha experiência profissiona...   \n",
       "1          Parda  Não  Sim, acredito que a minha a experiência profis...   \n",
       "2         Branca  Não                                                NaN   \n",
       "3         Branca  Não                                                NaN   \n",
       "4         Branca  Não  Não acredito que minha experiência profissiona...   \n",
       "\n",
       "                          aspectos_prejudicados  vive_no_brasil  \\\n",
       "0                                           NaN            True   \n",
       "1  Aprovação em processos seletivos/entrevistas            True   \n",
       "2                                           NaN            True   \n",
       "3                                           NaN            True   \n",
       "4                                           NaN            True   \n",
       "\n",
       "        Estado onde mora  ...  \\\n",
       "0  Distrito Federal (DF)  ...   \n",
       "1              Pará (PA)  ...   \n",
       "2  Distrito Federal (DF)  ...   \n",
       "3      Minas Gerais (MG)  ...   \n",
       "4              Pará (PA)  ...   \n",
       "\n",
       "  Coletando e limpando os dados que uso para análise e modelagem.  \\\n",
       "0                                                NaN                \n",
       "1                                                NaN                \n",
       "2                                                0.0                \n",
       "3                                                1.0                \n",
       "4                                                NaN                \n",
       "\n",
       "  Entrando em contato com os times de negócio para definição do problema  \\\n",
       "0                                                NaN                       \n",
       "1                                                NaN                       \n",
       "2                                                1.0                       \n",
       "3                                                0.0                       \n",
       "4                                                NaN                       \n",
       "\n",
       "  Desenvolvendo modelos de Machine Learning com o objetivo de colocar em produção em sistemas (produtos de dados).  \\\n",
       "0                                                NaN                                                                 \n",
       "1                                                NaN                                                                 \n",
       "2                                                0.0                                                                 \n",
       "3                                                0.0                                                                 \n",
       "4                                                NaN                                                                 \n",
       "\n",
       "  Colocando modelos em produção  \\\n",
       "0                           NaN   \n",
       "1                           NaN   \n",
       "2                           0.0   \n",
       "3                           0.0   \n",
       "4                           NaN   \n",
       "\n",
       "  Cuidando da manutenção de modelos de Machine Learning já em produção  \\\n",
       "0                                                NaN                     \n",
       "1                                                NaN                     \n",
       "2                                                0.0                     \n",
       "3                                                0.0                     \n",
       "4                                                NaN                     \n",
       "\n",
       "  Realizando construções de dashboards em ferramentas de BI como PowerBI  \\\n",
       "0                                                NaN                       \n",
       "1                                                NaN                       \n",
       "2                                                0.0                       \n",
       "3                                                0.0                       \n",
       "4                                                NaN                       \n",
       "\n",
       "  Utilizando ferramentas avançadas de estatística como SAS  \\\n",
       "0                                                NaN         \n",
       "1                                                NaN         \n",
       "2                                                0.0         \n",
       "3                                                0.0         \n",
       "4                                                NaN         \n",
       "\n",
       "  Criando e dando manutenção em ETLs  \\\n",
       "0                                NaN   \n",
       "1                                NaN   \n",
       "2                                0.0   \n",
       "3                                0.0   \n",
       "4                                NaN   \n",
       "\n",
       "  Criando e gerenciando soluções de Feature Store e cultura de MLOps.  \\\n",
       "0                                                NaN                    \n",
       "1                                                NaN                    \n",
       "2                                                0.0                    \n",
       "3                                                0.0                    \n",
       "4                                                NaN                    \n",
       "\n",
       "  Criando e mantendo a infra que meus modelos e soluções rodam (clusters  \n",
       "0                                                NaN                      \n",
       "1                                                NaN                      \n",
       "2                                                0.0                      \n",
       "3                                                0.0                      \n",
       "4                                                NaN                      \n",
       "\n",
       "[5 rows x 353 columns]"
      ]
     },
     "execution_count": 10,
     "metadata": {},
     "output_type": "execute_result"
    }
   ],
   "source": [
    "df = pd.read_csv(\"C:\\\\Users\\\\gpcbr\\\\Desktop\\\\Projeto_Python_Jobs\\\\State_of_data_2022.csv\")\n",
    "df.columns = [col[1:-1].split(\",\")[1].replace(\"'\", \"\").strip() for col in df.columns]\n",
    "df.head()"
   ]
  },
  {
   "cell_type": "code",
   "execution_count": 12,
   "metadata": {},
   "outputs": [
    {
     "data": {
      "image/png": "[encoded data removed]",
      "text/plain": [
       "<Figure size 720x432 with 1 Axes>"
      ]
     },
     "metadata": {
      "needs_background": "light"
     },
     "output_type": "display_data"
    }
   ],
   "source": [
    "#Análise Demográfica - Pergunta: Qual é a distribuição etária dos profissionais de dados?\n",
    "\n",
    "plt.figure(figsize=(10, 6))\n",
    "plt.hist(df['Idade'], bins=20, edgecolor='k', color='skyblue')\n",
    "plt.title('Distribuição Etária dos Profissionais de Dados')\n",
    "plt.xlabel('Idade')\n",
    "plt.ylabel('Número de Profissionais')\n",
    "plt.grid(axis='y', linestyle='--', alpha=0.7)\n",
    "\n",
    "plt.show()\n",
    "\n",
    "\n",
    "\n",
    "\n"
   ]
  },
  {
   "cell_type": "code",
   "execution_count": 13,
   "metadata": {},
   "outputs": [
    {
     "data": {
      "image/png": "[encoded data removed]",
      "text/plain": [
       "<Figure size 720x432 with 1 Axes>"
      ]
     },
     "metadata": {
      "needs_background": "light"
     },
     "output_type": "display_data"
    }
   ],
   "source": [
    "#Análise Demográfica - Pergunta: Como está a diversidade de gênero na área de dados?\n",
    "\n",
    "contagem_genero = df['Genero'].value_counts()\n",
    "\n",
    "plt.figure(figsize=(10, 6))\n",
    "contagem_genero.plot(kind='bar', color='skyblue')\n",
    "plt.title('Diversidade de Gênero na Área de Dados')\n",
    "plt.xlabel('Gênero')\n",
    "plt.ylabel('Número de Profissionais')\n",
    "plt.xticks(rotation=45)\n",
    "\n",
    "plt.show()\n"
   ]
  },
  {
   "cell_type": "code",
   "execution_count": 14,
   "metadata": {},
   "outputs": [
    {
     "data": {
      "image/png": "[encoded data removed]",
      "text/plain": [
       "<Figure size 720x432 with 1 Axes>"
      ]
     },
     "metadata": {
      "needs_background": "light"
     },
     "output_type": "display_data"
    }
   ],
   "source": [
    "#Análise Demográfica - Pergunta: Qual é a distribuição geográfica desses profissionais no Brasil?\n",
    "\n",
    "contagem_regiao = df['Regiao onde mora'].value_counts()\n",
    "\n",
    "plt.figure(figsize=(10, 6))\n",
    "contagem_regiao.plot(kind='bar', color='skyblue')\n",
    "plt.title('Distribuição Geográfica dos Profissionais de Dados no Brasil por Região')\n",
    "plt.xlabel('Região')\n",
    "plt.ylabel('Número de Profissionais')\n",
    "\n",
    "plt.show()\n"
   ]
  },
  {
   "cell_type": "code",
   "execution_count": 15,
   "metadata": {},
   "outputs": [
    {
     "data": {
      "image/png": "[encoded data removed]",
      "text/plain": [
       "<Figure size 576x432 with 1 Axes>"
      ]
     },
     "metadata": {
      "needs_background": "light"
     },
     "output_type": "display_data"
    }
   ],
   "source": [
    "#Análise Demográfica - Pergunta: Quantos deles têm alguma forma de deficiência (PCD)?\n",
    "\n",
    "contagem_pcd = df['PCD'].value_counts()\n",
    "\n",
    "\n",
    "plt.figure(figsize=(8, 6))\n",
    "plt.bar(contagem_pcd.index, contagem_pcd.values, color=['blue', 'green'])\n",
    "plt.xlabel('Status de PCD')\n",
    "plt.ylabel('Número de Profissionais')\n",
    "plt.title('Distribuição de Profissionais com e sem Deficiência (PCD)')\n",
    "plt.xticks(rotation=0)  # Para manter os rótulos \"Sim\" e \"Não\" na horizontal\n",
    "plt.show()\n"
   ]
  },
  {
   "cell_type": "code",
   "execution_count": 8,
   "metadata": {},
   "outputs": [
    {
     "ename": "NameError",
     "evalue": "name 'media_experiencia' is not defined",
     "output_type": "error",
     "traceback": [
      "\u001b[1;31m---------------------------------------------------------------------------\u001b[0m",
      "\u001b[1;31mNameError\u001b[0m                                 Traceback (most recent call last)",
      "\u001b[1;32mc:\\Users\\gpcbr\\Documents\\GitHub\\Projects-2\\Projects.ipynb Cell 8\u001b[0m line \u001b[0;36m<cell line: 5>\u001b[1;34m()\u001b[0m\n\u001b[0;32m      <a href='vscode-notebook-cell:/c%3A/Users/gpcbr/Documents/GitHub/Projects-2/Projects.ipynb#X21sZmlsZQ%3D%3D?line=0'>1</a>\u001b[0m \u001b[39m# Carreira e Experiência Profissional- Pergunta: Qual é o nível de experiência profissional médio na área de dados?\u001b[39;00m\n\u001b[0;32m      <a href='vscode-notebook-cell:/c%3A/Users/gpcbr/Documents/GitHub/Projects-2/Projects.ipynb#X21sZmlsZQ%3D%3D?line=2'>3</a>\u001b[0m categorias \u001b[39m=\u001b[39m [\u001b[39m'\u001b[39m\u001b[39mJúnior\u001b[39m\u001b[39m'\u001b[39m, \u001b[39m'\u001b[39m\u001b[39mPleno\u001b[39m\u001b[39m'\u001b[39m, \u001b[39m'\u001b[39m\u001b[39mSênior\u001b[39m\u001b[39m'\u001b[39m, \u001b[39m'\u001b[39m\u001b[39mGestor\u001b[39m\u001b[39m'\u001b[39m]\n\u001b[1;32m----> <a href='vscode-notebook-cell:/c%3A/Users/gpcbr/Documents/GitHub/Projects-2/Projects.ipynb#X21sZmlsZQ%3D%3D?line=4'>5</a>\u001b[0m plt\u001b[39m.\u001b[39mbar(categorias, media_experiencia, color\u001b[39m=\u001b[39m\u001b[39m'\u001b[39m\u001b[39mskyblue\u001b[39m\u001b[39m'\u001b[39m, edgecolor\u001b[39m=\u001b[39m\u001b[39m'\u001b[39m\u001b[39mblack\u001b[39m\u001b[39m'\u001b[39m)\n\u001b[0;32m      <a href='vscode-notebook-cell:/c%3A/Users/gpcbr/Documents/GitHub/Projects-2/Projects.ipynb#X21sZmlsZQ%3D%3D?line=5'>6</a>\u001b[0m plt\u001b[39m.\u001b[39mxlabel(\u001b[39m'\u001b[39m\u001b[39mNível de Experiência\u001b[39m\u001b[39m'\u001b[39m)\n\u001b[0;32m      <a href='vscode-notebook-cell:/c%3A/Users/gpcbr/Documents/GitHub/Projects-2/Projects.ipynb#X21sZmlsZQ%3D%3D?line=6'>7</a>\u001b[0m plt\u001b[39m.\u001b[39mylabel(\u001b[39m'\u001b[39m\u001b[39mMédia de Experiência (em anos)\u001b[39m\u001b[39m'\u001b[39m)\n",
      "\u001b[1;31mNameError\u001b[0m: name 'media_experiencia' is not defined"
     ]
    }
   ],
   "source": [
    "# Carreira e Experiência Profissional- Pergunta: Qual é o nível de experiência profissional médio na área de dados?\n",
    "\n",
    "categorias = ['Júnior', 'Pleno', 'Sênior', 'Gestor']\n",
    "\n",
    "plt.bar(categorias, media_experiencia, color='skyblue', edgecolor='black')\n",
    "plt.xlabel('Nível de Experiência')\n",
    "plt.ylabel('Média de Experiência (em anos)')\n",
    "plt.title('Média de Experiência Profissional na Área de Dados')\n",
    "plt.ylim(0, 12)  # Defina o limite do eixo y para melhor visualização\n",
    "\n",
    "# Exiba o gráfico\n",
    "plt.tight_layout()\n",
    "plt.show()\n",
    "\n",
    "\n",
    "\n"
   ]
  },
  {
   "cell_type": "code",
   "execution_count": 16,
   "metadata": {},
   "outputs": [
    {
     "data": {
      "image/png": "[encoded data removed]",
      "text/plain": [
       "<Figure size 432x288 with 1 Axes>"
      ]
     },
     "metadata": {},
     "output_type": "display_data"
    }
   ],
   "source": [
    "# Carreira e Experiência Profissional- Pergunta: Qual é a satisfação geral no ambiente de trabalho?\n",
    "\n",
    "satisfacao_empresa = df['Você está satisfeito na sua empresa atual?']\n",
    "\n",
    "contagem_respostas = satisfacao_empresa.value_counts().sort_index()\n",
    "\n",
    "rotulos = ['Sim', 'Não']\n",
    "valores = contagem_respostas.values\n",
    "\n",
    "cores = ['lightgreen', 'lightcoral']\n",
    "\n",
    "plt.pie(valores, labels=rotulos, colors=cores, autopct='%1.1f%%', startangle=140)\n",
    "plt.axis('equal')  \n",
    "\n",
    "plt.title('Satisfação na Empresa Atual')\n",
    "\n",
    "plt.show()\n"
   ]
  },
  {
   "cell_type": "code",
   "execution_count": null,
   "metadata": {},
   "outputs": [],
   "source": []
  }
 ],
 "metadata": {
  "kernelspec": {
   "display_name": "Python 3",
   "language": "python",
   "name": "python3"
  },
  "language_info": {
   "codemirror_mode": {
    "name": "ipython",
    "version": 3
   },
   "file_extension": ".py",
   "mimetype": "text/x-python",
   "name": "python",
   "nbconvert_exporter": "python",
   "pygments_lexer": "ipython3",
   "version": "3.10.4"
  },
  "orig_nbformat": 4
 },
 "nbformat": 4,
 "nbformat_minor": 2
}
